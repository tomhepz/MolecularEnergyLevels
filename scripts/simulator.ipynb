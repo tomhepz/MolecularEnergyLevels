{
 "cells": [
  {
   "cell_type": "markdown",
   "id": "18eebfed-0c3d-4bf8-b3d4-1728f9dbdbb2",
   "metadata": {
    "cell_marker": "\"\"\""
   },
   "source": [
    "# Import appropriate modules"
   ]
  },
  {
   "cell_type": "code",
   "execution_count": 137,
   "id": "1db6360e-07fa-498a-a5c9-ed6cafb264db",
   "metadata": {},
   "outputs": [
    {
     "ename": "ModuleNotFoundError",
     "evalue": "No module named 'tqdm'",
     "output_type": "error",
     "traceback": [
      "\u001b[0;31m---------------------------------------------------------------------------\u001b[0m",
      "\u001b[0;31mModuleNotFoundError\u001b[0m                       Traceback (most recent call last)",
      "Cell \u001b[0;32mIn [137], line 18\u001b[0m\n\u001b[1;32m     15\u001b[0m \u001b[38;5;28;01mimport\u001b[39;00m \u001b[38;5;21;01mmatplotlib\u001b[39;00m\u001b[38;5;21;01m.\u001b[39;00m\u001b[38;5;21;01mcolors\u001b[39;00m\n\u001b[1;32m     16\u001b[0m \u001b[38;5;28;01mfrom\u001b[39;00m \u001b[38;5;21;01mmatplotlib\u001b[39;00m\u001b[38;5;21;01m.\u001b[39;00m\u001b[38;5;21;01mgridspec\u001b[39;00m \u001b[38;5;28;01mimport\u001b[39;00m GridSpec\n\u001b[0;32m---> 18\u001b[0m \u001b[38;5;28;01mfrom\u001b[39;00m \u001b[38;5;21;01mtqdm\u001b[39;00m\u001b[38;5;21;01m.\u001b[39;00m\u001b[38;5;21;01mnotebook\u001b[39;00m \u001b[38;5;28;01mimport\u001b[39;00m tqdm, trange\n\u001b[1;32m     20\u001b[0m \u001b[38;5;28;01mimport\u001b[39;00m \u001b[38;5;21;01mitertools\u001b[39;00m\n\u001b[1;32m     22\u001b[0m plt\u001b[38;5;241m.\u001b[39mrcParams[\u001b[38;5;124m\"\u001b[39m\u001b[38;5;124mtext.usetex\u001b[39m\u001b[38;5;124m\"\u001b[39m] \u001b[38;5;241m=\u001b[39m \u001b[38;5;28;01mTrue\u001b[39;00m\n",
      "\u001b[0;31mModuleNotFoundError\u001b[0m: No module named 'tqdm'"
     ]
    }
   ],
   "source": [
    "import numpy as np\n",
    "from numpy.linalg import eigh\n",
    "from numpy import load\n",
    "np.set_printoptions(threshold=np.inf, linewidth=np.inf)\n",
    "np.set_printoptions(formatter={'float': lambda x: \"{0:0.3e}\".format(x)})\n",
    "\n",
    "import diatom.hamiltonian as hamiltonian\n",
    "import diatom.calculate as calculate\n",
    "from diatom.constants import Rb87Cs133\n",
    "\n",
    "import scipy.constants\n",
    "from scipy.linalg import expm\n",
    "\n",
    "import matplotlib.pyplot as plt\n",
    "import matplotlib.colors\n",
    "from matplotlib.gridspec import GridSpec\n",
    "\n",
    "from tqdm.notebook import tqdm, trange\n",
    "\n",
    "import itertools\n",
    "\n",
    "plt.rcParams[\"text.usetex\"] = True\n",
    "plt.rcParams[\"font.family\"] = 'sans-serif'\n",
    "plt.rcParams[\"figure.autolayout\"] = True\n",
    "plt.rcParams['figure.figsize'] = (4, 3.5)\n",
    "plt.rcParams['figure.dpi'] = 200\n",
    "plt.rc('text.latex', preamble=r'\\usepackage[T1]{fontenc}\\usepackage{cmbright}\\usepackage{mathtools}')\n",
    "\n",
    "%matplotlib widget\n",
    "%config InlineBackend.figure_format = 'retina'"
   ]
  },
  {
   "cell_type": "code",
   "execution_count": 59,
   "id": "6cb6bcbd-104a-4d59-bda0-0e7ca5a6df56",
   "metadata": {},
   "outputs": [],
   "source": [
    "def label_to_state_no(N,MF,k):\n",
    "    return np.where((LABELS[:, 0] == N) & (LABELS[:, 1] == MF) & (LABELS[:, 2] == k))[0][0]\n",
    "\n",
    "def state_no_to_uncoupled_label(state_no):\n",
    "    i=0\n",
    "    I1d = round(2*I1)\n",
    "    I2d = round(2*I2)\n",
    "    for n in range(0, N_MAX + 1):\n",
    "        for mn in range(n,-(n+1),-1):\n",
    "            for mi1 in range(I1d,-I1d-1,-2):\n",
    "                for mi2 in range(I2d,-I2d-1,-2):\n",
    "                    if i == state_no:\n",
    "                        return (n,mn,mi1/2,mi2/2)\n",
    "                    i+=1"
   ]
  },
  {
   "cell_type": "code",
   "execution_count": 60,
   "id": "4983d94a-c714-4132-854d-43550d8cf51d",
   "metadata": {},
   "outputs": [],
   "source": [
    "def label_degeneracy(N,MF):\n",
    "    # Want number of ways of having\n",
    "    # MF = MN + (M_I1 + M_I2) # NP-Hard Problem SSP (Subset Sum)\n",
    "    d=0\n",
    "    I1d=round(2*I1)\n",
    "    I2d=round(2*I2)\n",
    "    for MN in range(-N,N+1):\n",
    "        for M_I1d in range(-I1d,I1d+1,2):\n",
    "            for M_I2d in range(-I2d,I2d+1,2):\n",
    "                if 2*MN+M_I1d+M_I2d == 2*MF:\n",
    "                    d+=1\n",
    "    return d"
   ]
  },
  {
   "cell_type": "markdown",
   "id": "0aced727-5a0d-4ee4-b86c-1fa8ca77fc0e",
   "metadata": {
    "cell_marker": "\"\"\""
   },
   "source": [
    "# Define 'global' Constants"
   ]
  },
  {
   "cell_type": "code",
   "execution_count": 61,
   "id": "e56be275-e6b6-413e-95f3-6c4dcf2072fb",
   "metadata": {},
   "outputs": [
    {
     "name": "stdout",
     "output_type": "stream",
     "text": [
      "NMax2BMin0.01BMax600BSteps1200\n"
     ]
    }
   ],
   "source": [
    "H_BAR = scipy.constants.hbar\n",
    "\n",
    "I1 = Rb87Cs133[\"I1\"]\n",
    "I2 = Rb87Cs133[\"I2\"]\n",
    "D_0 = Rb87Cs133[\"d0\"]\n",
    "N_MAX=2\n",
    "\n",
    "I = 0 #W/m^2\n",
    "E = 0 #V/m\n",
    "\n",
    "B_MIN_GAUSS = 0.01\n",
    "B_MAX_GAUSS = 600\n",
    "B_STEPS = 1200\n",
    "\n",
    "settings_string = f'NMax{N_MAX}BMin{B_MIN_GAUSS}BMax{B_MAX_GAUSS}BSteps{B_STEPS}'\n",
    "print(settings_string)\n",
    "\n",
    "GAUSS = 1e4 # T\n",
    "B_MIN = B_MIN_GAUSS / GAUSS # T\n",
    "B_MAX = B_MAX_GAUSS / GAUSS # T\n",
    "\n",
    "PULSE_TIME = 100 * 1e-6 # s\n",
    "\n",
    "B, B_STEP_SIZE = np.linspace(B_MIN, B_MAX, B_STEPS, retstep=True) #T "
   ]
  },
  {
   "cell_type": "code",
   "execution_count": 62,
   "id": "759c90db-9a57-4e54-b289-2fa6187f950f",
   "metadata": {},
   "outputs": [],
   "source": [
    "data = np.load(f'../precomputed/{settings_string}.npz')\n",
    "ENERGIES = data['energies']\n",
    "N_STATES = len(ENERGIES[0])\n",
    "STATES = data['states']\n",
    "LABELS=data['labels']\n",
    "MAGNETIC_MOMENTS=data['magnetic_moments'] \n",
    "COUPLINGS_ZERO=data['coupling_matrix_zero']\n",
    "COUPLINGS_MINUS=data['coupling_matrix_minus']\n",
    "COUPLINGS_PLUS=data['coupling_matrix_plus']\n",
    "COUPLINGS = COUPLINGS_ZERO+COUPLINGS_MINUS+COUPLINGS_PLUS\n",
    "POLARISED_COUPLING = [COUPLINGS_ZERO,COUPLINGS_PLUS,COUPLINGS_MINUS]\n",
    "UNPOLARISED_PAIR_FIDELITIES = data['unpolarised_pair_fidelities']\n",
    "POLARISED_PAIR_FIDELITIES=data['polarised_pair_fidelities']"
   ]
  },
  {
   "cell_type": "markdown",
   "id": "a4e3c631-5aa4-4b42-8436-f6c5eebf0b21",
   "metadata": {
    "cell_marker": "\"\"\""
   },
   "source": [
    "# Simulator"
   ]
  },
  {
   "cell_type": "code",
   "execution_count": 135,
   "id": "a7f29f25-9019-479d-b7fc-e2926114e4fd",
   "metadata": {},
   "outputs": [],
   "source": [
    "# Choose Simulation Parameters\n",
    "chosen_states_labels = None \n",
    "if chosen_states_labels is None:\n",
    "    chosen_states_indices = slice(None,None,None)\n",
    "    chosen_number_of_states = N_STATES\n",
    "else:\n",
    "    chosen_states_indices = np.array([label_to_state_no(*label) for label in chosen_states_labels])\n",
    "    chosen_number_of_states = len(chosen_states_indices)\n",
    "\n",
    "# Driven Couplings\n",
    "chosen_states_coupling_labels = np.array([(0,4,1),(1,5,2),(2,4,4),(1,4,3)])\n",
    "chosen_coupling_labels = [\n",
    "    (chosen_states_coupling_labels[0],chosen_states_coupling_labels[1]),\n",
    "    (chosen_states_coupling_labels[1],chosen_states_coupling_labels[2]),\n",
    "    (chosen_states_coupling_labels[3],chosen_states_coupling_labels[2]),\n",
    "    (chosen_states_coupling_labels[0],chosen_states_coupling_labels[3]),\n",
    "]\n",
    "# chosen_coupling_indices = np.array([(label_to_state_no(*l1),label_to_state_no(*l2)) for l1,l2 in chosen_coupling_labels])\n",
    "\n",
    "# With what desired rabi period\n",
    "chosen_pulse_time = [100 * 1e-6, 100 * 1e-6, 100 * 1e-6, 100 * 1e-6]\n",
    "\n",
    "# Polarisation Mode\n",
    "polarisation = False\n",
    "\n",
    "# At what magnetic field\n",
    "chosen_bi = 1199 \n",
    "\n",
    "\n",
    "# Simulation resolution\n",
    "T_STEPS =  [195931,65519,21319,9391,50][1] \n",
    "\n",
    "# Simulation time length (how many Rabi periods to show)\n",
    "TIME = chosen_pulse_time[0]*3"
   ]
  },
  {
   "cell_type": "code",
   "execution_count": 136,
   "id": "d8c6948f-e30f-4c7c-8756-2e9a97bea428",
   "metadata": {},
   "outputs": [
    {
     "name": "stdout",
     "output_type": "stream",
     "text": [
      "[1.020e-09 5.100e-10 5.100e-10 1.020e-09]\n"
     ]
    },
    {
     "ename": "KeyboardInterrupt",
     "evalue": "",
     "output_type": "error",
     "traceback": [
      "\u001b[0;31m---------------------------------------------------------------------------\u001b[0m",
      "\u001b[0;31mKeyboardInterrupt\u001b[0m                         Traceback (most recent call last)",
      "Cell \u001b[0;32mIn [136], line 59\u001b[0m\n\u001b[1;32m     56\u001b[0m     V_OP \u001b[38;5;241m=\u001b[39m scipy\u001b[38;5;241m.\u001b[39mlinalg\u001b[38;5;241m.\u001b[39mexpm(V_M)\n\u001b[1;32m     58\u001b[0m     DU \u001b[38;5;241m=\u001b[39m T_OP_DIAG[:,\u001b[38;5;28;01mNone\u001b[39;00m] \u001b[38;5;241m*\u001b[39m V_OP[:,:] \u001b[38;5;241m*\u001b[39m T_OP_DIAG[\u001b[38;5;28;01mNone\u001b[39;00m,:]\n\u001b[0;32m---> 59\u001b[0m     state_vector[t_num\u001b[38;5;241m+\u001b[39m\u001b[38;5;241m1\u001b[39m] \u001b[38;5;241m=\u001b[39m DU \u001b[38;5;241m@\u001b[39m state_vector[t_num]\n\u001b[1;32m     61\u001b[0m probabilities \u001b[38;5;241m=\u001b[39m np\u001b[38;5;241m.\u001b[39mabs(state_vector)\u001b[38;5;241m*\u001b[39m\u001b[38;5;241m*\u001b[39m\u001b[38;5;241m2\u001b[39m\n",
      "\u001b[0;31mKeyboardInterrupt\u001b[0m: "
     ]
    }
   ],
   "source": [
    "# Get Angular Frequency Matrix Diagonal for each B\n",
    "all_angular = ENERGIES[chosen_bi, :].real / H_BAR # [state]\n",
    "angular = all_angular[chosen_states_indices]\n",
    "\n",
    "# Get driving frequencies & polarisations\n",
    "driving = []\n",
    "polarisations = []\n",
    "E_i = []\n",
    "for (l1,l2), pulse_time in zip(chosen_coupling_labels, chosen_pulse_time):\n",
    "    i1=label_to_state_no(*l1)\n",
    "    i2=label_to_state_no(*l2)\n",
    "    driving.append(np.abs(all_angular[i1]-all_angular[i2]))\n",
    "    P = round(-1*(l1[0]-l2[0])*(l1[1]-l2[1]))\n",
    "    polarisations.append(P)\n",
    "    E_i.append((2*np.pi*H_BAR) / (D_0 * POLARISED_COUPLING[P][chosen_bi,i1,i2] * pulse_time))\n",
    "\n",
    "polarisations = np.array(polarisations)\n",
    "driving = np.array(driving)\n",
    "E_i = np.array(E_i)\n",
    "\n",
    "# Construct times\n",
    "times, DT = np.linspace(0,TIME,num=T_STEPS,retstep=True)\n",
    "print(2*np.pi/driving)\n",
    "\n",
    "# Construct 'kinetic' time step operator (Matrix Diagonal)\n",
    "T_OP_DIAG = np.exp(-(1j) * angular * DT/2 )\n",
    "\n",
    "this_coupling_plus = COUPLINGS_PLUS[chosen_bi][:,chosen_states_indices][chosen_states_indices,:]\n",
    "this_coupling_zero = COUPLINGS_ZERO[chosen_bi][:,chosen_states_indices][chosen_states_indices,:]\n",
    "this_coupling_minus = COUPLINGS_MINUS[chosen_bi][:,chosen_states_indices][chosen_states_indices,:]\n",
    "# Construct potential fixed part time step operator \n",
    "ORDER = 6\n",
    "\n",
    "# THIS_COUPLING = STATES[chosen_bi, :, :].conj().transpose(1,0) @ (dipole_op_zero @ STATES[chosen_bi, :, :])\n",
    "\n",
    "\n",
    "# V_TI_M = (-(1j)*D_0*DT)/H_BAR\n",
    "\n",
    "# V_TI_M = (-(1j)*D_0*COUPLINGS[chosen_bi,:,:]*DT)/H_BAR\n",
    "# print(V_TI_M.shape)\n",
    "# V_TI_M_POWS = np.array([np.linalg.matrix_power(V_TI_M, i)/np.math.factorial(i) for i in range(ORDER)])\n",
    "\n",
    "# Construct state vector\n",
    "state_vector = np.zeros((T_STEPS,chosen_number_of_states), dtype=np.cdouble)\n",
    "state_vector[0,0] = np.sqrt(1)\n",
    "\n",
    "#path = np.einsum_path('ij,i->j',V_TI_M, state_vector, optimize='optimal')[0]\n",
    "for t_num in trange(T_STEPS-1):\n",
    "#     V_TD = np.sum(E_i*np.cos(driving*times[t_num]))\n",
    "#     V_TD_POWS = V_TD**(np.arange(ORDER))\n",
    "#     V_OP = np.sum(V_TI_M_POWS*V_TD_POWS[:,None,None],axis=0)\n",
    "    V_M = ((-(1j)*D_0*DT)/H_BAR) * (np.sum(E_i*(polarisations==1)*np.cos(driving*times[t_num]))*this_coupling_plus +\n",
    "        np.sum(E_i*(polarisations==0)*np.cos(driving*times[t_num]))*this_coupling_zero +\n",
    "        np.sum(E_i*(polarisations==-1)*np.cos(driving*times[t_num]))*this_coupling_minus\n",
    "       )\n",
    "    V_OP = scipy.linalg.expm(V_M)\n",
    "\n",
    "    DU = T_OP_DIAG[:,None] * V_OP[:,:] * T_OP_DIAG[None,:]\n",
    "    state_vector[t_num+1] = DU @ state_vector[t_num]\n",
    "    \n",
    "probabilities = np.abs(state_vector)**2"
   ]
  },
  {
   "cell_type": "code",
   "execution_count": null,
   "id": "71f974fe-3fe1-4889-b4f1-3556c2e323d5",
   "metadata": {
    "lines_to_next_cell": 2
   },
   "outputs": [],
   "source": [
    "fig,ax = plt.subplots()\n",
    "ax.set_xlabel('t(us)')\n",
    "ax.set_ylim(0,1.4)\n",
    "ax.set_xlim(0,TIME*1e6)\n",
    "c = ['red','green','blue','purple']\n",
    "ax.plot(times*1e6,probabilities[:,:],c='grey',linewidth=0.5,alpha=0.3);\n",
    "i=0\n",
    "for state_index in range(chosen_number_of_states):\n",
    "    ax.plot(times*1e6,probabilities[:,state_index],c=c[i],linewidth=0.5);\n",
    "    i+=1"
   ]
  },
  {
   "cell_type": "code",
   "execution_count": null,
   "id": "04c21943-cfe3-43d2-809d-fff60dbe1485",
   "metadata": {},
   "outputs": [],
   "source": []
  }
 ],
 "metadata": {
  "kernelspec": {
   "display_name": "Python 3 (ipykernel)",
   "language": "python",
   "name": "python3"
  },
  "language_info": {
   "codemirror_mode": {
    "name": "ipython",
    "version": 3
   },
   "file_extension": ".py",
   "mimetype": "text/x-python",
   "name": "python",
   "nbconvert_exporter": "python",
   "pygments_lexer": "ipython3",
   "version": "3.10.8"
  }
 },
 "nbformat": 4,
 "nbformat_minor": 5
}
