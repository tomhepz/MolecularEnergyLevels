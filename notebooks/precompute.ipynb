{
 "cells": [
  {
   "cell_type": "markdown",
   "id": "52110b0b-6aaa-41ae-98cc-90d831240c1a",
   "metadata": {
    "cell_marker": "\"\"\""
   },
   "source": [
    "# This file computes diagonalisation & pre-computes results for use later"
   ]
  },
  {
   "cell_type": "markdown",
   "id": "31f89c1a",
   "metadata": {
    "cell_marker": "\"\"\""
   },
   "source": [
    "## Import appropriate modules"
   ]
  },
  {
   "cell_type": "code",
   "execution_count": 363,
   "id": "da2e57b0",
   "metadata": {},
   "outputs": [],
   "source": [
    "import numpy as np\n",
    "from numpy.linalg import eigh\n",
    "from numpy import save, savez, savez_compressed\n",
    "import ast\n",
    "\n",
    "import diatom.hamiltonian as hamiltonian\n",
    "import diatom.calculate as calculate\n",
    "from diatom.constants import *\n",
    "\n",
    "from tqdm import tqdm\n",
    "from numba import jit\n",
    "\n",
    "import scipy.constants\n",
    "from scipy.sparse import csr_matrix"
   ]
  },
  {
   "cell_type": "code",
   "execution_count": 166,
   "id": "654b9c9b-8668-417f-9ee3-e1dbfcf2d230",
   "metadata": {},
   "outputs": [],
   "source": [
    "import matplotlib.pyplot as plt\n",
    "# plt.rcParams[\"text.usetex\"] = True\n",
    "plt.rcParams[\"font.family\"] = 'sans-serif'\n",
    "plt.rcParams[\"figure.autolayout\"] = True\n",
    "plt.rcParams['figure.figsize'] = (4, 3.5)\n",
    "plt.rcParams['figure.dpi'] = 200\n",
    "# plt.rc('text.latex', preamble=r'\\usepackage[T1]{fontenc}\\usepackage{cmbright}\\usepackage{mathtools}')\n",
    "\n",
    "%matplotlib widget\n",
    "%config InlineBackend.figure_format = 'retina'"
   ]
  },
  {
   "cell_type": "markdown",
   "id": "f44df710",
   "metadata": {
    "cell_marker": "\"\"\""
   },
   "source": [
    "## Defining parameters"
   ]
  },
  {
   "cell_type": "code",
   "execution_count": 365,
   "id": "def7247e-5927-42c4-b34f-604699b05375",
   "metadata": {},
   "outputs": [
    {
     "ename": "NameError",
     "evalue": "name 'label_to_state_no' is not defined",
     "output_type": "error",
     "traceback": [
      "\u001b[0;31m---------------------------------------------------------------------------\u001b[0m",
      "\u001b[0;31mNameError\u001b[0m                                 Traceback (most recent call last)",
      "Cell \u001b[0;32mIn [365], line 26\u001b[0m\n\u001b[1;32m     23\u001b[0m F_D_MAX \u001b[38;5;241m=\u001b[39m \u001b[38;5;241m2\u001b[39m\u001b[38;5;241m*\u001b[39mN_MAX \u001b[38;5;241m+\u001b[39m I1_D \u001b[38;5;241m+\u001b[39m I2_D\n\u001b[1;32m     25\u001b[0m INITIAL_STATE_LABELS_D \u001b[38;5;241m=\u001b[39m MOLECULE[\u001b[38;5;124m\"\u001b[39m\u001b[38;5;124mStartStates_D\u001b[39m\u001b[38;5;124m\"\u001b[39m]\n\u001b[0;32m---> 26\u001b[0m INITIAL_STATE_INDICES \u001b[38;5;241m=\u001b[39m [label_to_state_no(\u001b[38;5;241m*\u001b[39mlabel_d) \u001b[38;5;28;01mfor\u001b[39;00m label_d \u001b[38;5;129;01min\u001b[39;00m INITIAL_STATE_LABELS_D]\n\u001b[1;32m     27\u001b[0m N_INITIAL_STATES \u001b[38;5;241m=\u001b[39m \u001b[38;5;28mlen\u001b[39m(INITIAL_STATE_INDICES)\n",
      "Cell \u001b[0;32mIn [365], line 26\u001b[0m, in \u001b[0;36m<listcomp>\u001b[0;34m(.0)\u001b[0m\n\u001b[1;32m     23\u001b[0m F_D_MAX \u001b[38;5;241m=\u001b[39m \u001b[38;5;241m2\u001b[39m\u001b[38;5;241m*\u001b[39mN_MAX \u001b[38;5;241m+\u001b[39m I1_D \u001b[38;5;241m+\u001b[39m I2_D\n\u001b[1;32m     25\u001b[0m INITIAL_STATE_LABELS_D \u001b[38;5;241m=\u001b[39m MOLECULE[\u001b[38;5;124m\"\u001b[39m\u001b[38;5;124mStartStates_D\u001b[39m\u001b[38;5;124m\"\u001b[39m]\n\u001b[0;32m---> 26\u001b[0m INITIAL_STATE_INDICES \u001b[38;5;241m=\u001b[39m [\u001b[43mlabel_to_state_no\u001b[49m(\u001b[38;5;241m*\u001b[39mlabel_d) \u001b[38;5;28;01mfor\u001b[39;00m label_d \u001b[38;5;129;01min\u001b[39;00m INITIAL_STATE_LABELS_D]\n\u001b[1;32m     27\u001b[0m N_INITIAL_STATES \u001b[38;5;241m=\u001b[39m \u001b[38;5;28mlen\u001b[39m(INITIAL_STATE_INDICES)\n",
      "\u001b[0;31mNameError\u001b[0m: name 'label_to_state_no' is not defined"
     ]
    }
   ],
   "source": [
    "MOLECULE_STRING = \"Rb87Cs133\"\n",
    "MOLECULE = Rb87Cs133\n",
    "N_MAX=2\n",
    "\n",
    "GAUSS = 1e-4 # T\n",
    "B = np.concatenate([np.arange(0.1,100,0.1),np.arange(100,500,1),np.arange(500,1000,10)]) * GAUSS\n",
    "\n",
    "B_STEPS = len(B)\n",
    "B_MIN = B[0]\n",
    "B_MAX= B[-1]\n",
    "\n",
    "settings_string = f'{MOLECULE_STRING}NMax{N_MAX}'\n",
    "\n",
    "H_BAR = scipy.constants.hbar\n",
    "\n",
    "I1 = MOLECULE[\"I1\"]\n",
    "I2 = MOLECULE[\"I2\"]\n",
    "I1_D = round(2*MOLECULE[\"I1\"])\n",
    "I2_D = round(2*MOLECULE[\"I2\"])\n",
    "\n",
    "PER_MN = (I1_D+1)*(I2_D+1)\n",
    "N_STATES = PER_MN * (N_MAX+1)**2\n",
    "F_D_MAX = 2*N_MAX + I1_D + I2_D"
   ]
  },
  {
   "cell_type": "markdown",
   "id": "5c51cc11-909c-4df9-b535-d6bfa31880df",
   "metadata": {
    "cell_marker": "\"\"\"",
    "tags": []
   },
   "source": [
    "# Generate canonical label & sparse edge ordering"
   ]
  },
  {
   "cell_type": "code",
   "execution_count": 328,
   "id": "7fafd2de-7e14-46f0-975a-51af2f6f998a",
   "metadata": {},
   "outputs": [],
   "source": [
    "UNCOUPLED_LABELS_D = []\n",
    "\n",
    "for n in range(0, N_MAX + 1):\n",
    "    for mn in range(n,-(n+1),-1):\n",
    "        for mi1d in range(I1_D,-I1_D-1,-2):\n",
    "            for mi2d in range(I2_D,-I2_D-1,-2):\n",
    "                UNCOUPLED_LABELS_D.append((n,mn,mi1d,mi2d))\n",
    "\n",
    "UNCOUPLED_LABELS_D = (np.rint(UNCOUPLED_LABELS_D)).astype(\"int\")"
   ]
  },
  {
   "cell_type": "code",
   "execution_count": 329,
   "id": "e5d4de18-9a07-4957-bc2b-5f92a5b4c85e",
   "metadata": {},
   "outputs": [],
   "source": [
    "generated_labels = np.zeros((N_STATES,3),dtype=int)\n",
    "label_degeneracy_cache = np.zeros((N_MAX+1,F_D_MAX+1),dtype=int)\n",
    "state_jump_list = np.zeros((N_MAX+1,F_D_MAX+1),dtype=int)\n",
    "\n",
    "c=0\n",
    "for N in range(0,N_MAX+1):\n",
    "    F_D = 2*N + I1_D + I2_D\n",
    "    for MF_D in range(-F_D,F_D+1,2):\n",
    "        # Want number of ways of having\n",
    "        # MF = MN + (M_I1 + M_I2) # NP-Hard Problem SSP (Subset Sum)\n",
    "        d=0\n",
    "        state_jump_list[N,(MF_D+F_D_MAX)//2]=c\n",
    "        for MN in range(-N,N+1):\n",
    "            for M_I1_D in range(-I1_D,I1_D+1,2):\n",
    "                for M_I2_D in range(-I2_D,I2_D+1,2):\n",
    "                    if 2*MN+M_I1_D+M_I2_D == MF_D:\n",
    "                        generated_labels[c] = (N,MF_D,d)\n",
    "                        d+=1\n",
    "                        c+=1\n",
    "        label_degeneracy_cache[N,(MF_D+F_D_MAX)//2]=d\n",
    "        \n",
    "\n",
    "def label_degeneracy(N,MF_D):\n",
    "    return label_degeneracy_cache[N,(MF_D+F_D_MAX)//2]\n",
    "\n",
    "\n",
    "def label_d_to_node_index(N,MF_D,d):\n",
    "    return state_jump_list[N,(MF_D+F_D_MAX)//2]+d"
   ]
  },
  {
   "cell_type": "code",
   "execution_count": 337,
   "id": "e773fcf9-6be2-447c-813d-ca01109c4b47",
   "metadata": {},
   "outputs": [],
   "source": [
    "generated_edge_labels = []\n",
    "generated_edge_indices = []\n",
    "edge_jump_list = []\n",
    "for from_index, (N,MF_D,d_from) in enumerate(generated_labels):\n",
    "    sub_jump_list = []\n",
    "    sub_jump_list.append(len(generated_edge_labels))\n",
    "    for dN in [1,-1]:\n",
    "        for dMF_D in [0,-2*dN,2*dN]:\n",
    "            if N>=N_MAX and dN==1:\n",
    "                sub_jump_list.append(len(generated_edge_labels))\n",
    "                continue # can't go higher\n",
    "            if N<=0 and dN==-1:\n",
    "                sub_jump_list.append(len(generated_edge_labels))\n",
    "                continue # can't go lower\n",
    "            if dN == -1:\n",
    "                down_F_D =  2*(N-1) + I1_D + I2_D\n",
    "                if MF_D+dMF_D > down_F_D or  MF_D+dMF_D < -down_F_D:\n",
    "                    sub_jump_list.append(len(generated_edge_labels))\n",
    "                    continue # lower state doesn't exist\n",
    "            \n",
    "            d_to = label_degeneracy(N+dN,MF_D+dMF_D)\n",
    "            these_labels = []\n",
    "            these_indices = []\n",
    "            for k in range(d_to):\n",
    "                these_labels.append((N,MF_D,d_from,N+dN,MF_D+dMF_D,k))\n",
    "                these_indices.append((from_index,label_d_to_node_index(N+dN,MF_D+dMF_D,k)))\n",
    "            generated_edge_labels.extend(these_labels)\n",
    "            generated_edge_indices.extend(these_indices)\n",
    "            sub_jump_list.append(len(generated_edge_labels))\n",
    "            \n",
    "    edge_jump_list.append(sub_jump_list)\n",
    "    \n",
    "N_TRANSITIONS = len(generated_edge_labels)\n",
    "\n",
    "generated_edge_labels = np.array(generated_edge_labels,dtype=int)\n",
    "generated_edge_indices = np.array(generated_edge_indices,dtype=int)\n",
    "edge_jump_list = np.array(edge_jump_list,dtype=int)\n",
    "\n",
    "def label_d_to_edge_indices(N,MF_D,d): # Returns the start indices of P=0,P=1,P=2, and the next edge\n",
    "    return edge_jump_list[label_d_to_node_index(N,MF_D,d)]"
   ]
  },
  {
   "cell_type": "code",
   "execution_count": 367,
   "id": "1e3b2d10-99a6-4daa-ad98-d73c6cb6da78",
   "metadata": {},
   "outputs": [],
   "source": [
    "INITIAL_STATE_LABELS_D = MOLECULE[\"StartStates_D\"]\n",
    "INITIAL_STATE_INDICES = [label_d_to_node_index(*label_d) for label_d in INITIAL_STATE_LABELS_D]\n",
    "N_INITIAL_STATES = len(INITIAL_STATE_INDICES)"
   ]
  },
  {
   "cell_type": "markdown",
   "id": "1d8b4d6b",
   "metadata": {
    "cell_marker": "\"\"\""
   },
   "source": [
    "## Diagonalise & Calculate "
   ]
  },
  {
   "cell_type": "code",
   "execution_count": 175,
   "id": "96246013-f3d2-453b-abe5-6522982a6439",
   "metadata": {},
   "outputs": [],
   "source": [
    "H0,Hz,Hdc,Hac = hamiltonian.build_hamiltonians(N_MAX, MOLECULE, zeeman=True, Edc=False, ac=False)\n",
    "\n",
    "H = (\n",
    "    +H0[..., None]\n",
    "    +Hz[..., None]*B\n",
    "    ).transpose(2,0,1)"
   ]
  },
  {
   "cell_type": "code",
   "execution_count": 176,
   "id": "9210a2de-4279-4413-8fec-04ce1c920926",
   "metadata": {},
   "outputs": [],
   "source": [
    "ENERGIES_UNSORTED, STATES_UNSORTED = eigh(H)"
   ]
  },
  {
   "cell_type": "code",
   "execution_count": 177,
   "id": "5c698a65-f41c-4a18-8288-ecc12a25ca92",
   "metadata": {},
   "outputs": [],
   "source": [
    "ENERGIES_HALF_SORTED, STATES_HALF_SORTED = calculate.sort_smooth(ENERGIES_UNSORTED,STATES_UNSORTED)"
   ]
  },
  {
   "cell_type": "code",
   "execution_count": 178,
   "id": "2b9cf104-93e5-4c30-913f-374d4aeb654f",
   "metadata": {},
   "outputs": [],
   "source": [
    "ENERGIES_before, STATES_before, labels_d = calculate.sort_by_state(ENERGIES_HALF_SORTED, STATES_HALF_SORTED, N_MAX, MOLECULE)"
   ]
  },
  {
   "cell_type": "code",
   "execution_count": 179,
   "id": "7d59b98b-bb99-4954-b857-0c73caeec806",
   "metadata": {},
   "outputs": [],
   "source": [
    "labels_d[:,1] *= 2 # Double MF to guarantee int\n",
    "LABELS_D=(np.rint(labels_d)).astype(\"int\")"
   ]
  },
  {
   "cell_type": "code",
   "execution_count": 180,
   "id": "e8a0417c-a7b9-4dab-904b-aec353ba711c",
   "metadata": {},
   "outputs": [],
   "source": [
    "canonical_to_energy_map = []\n",
    "for N,MF_D,k in generated_labels:\n",
    "    canonical_to_energy_map.append(np.where((LABELS_D[:, 0] == N) & (LABELS_D[:, 1] == MF_D) & (LABELS_D[:, 2] == k))[0][0])\n",
    "canonical_to_energy_map = np.array(canonical_to_energy_map)"
   ]
  },
  {
   "cell_type": "code",
   "execution_count": 181,
   "id": "1b3c4bed-19ca-4081-aa8b-e620fc8c7b78",
   "metadata": {},
   "outputs": [],
   "source": [
    "ENERGIES = ENERGIES_before[:,canonical_to_energy_map].T\n",
    "STATES = STATES_before[:,:,canonical_to_energy_map] #[b,uncoupled,coupled]"
   ]
  },
  {
   "cell_type": "code",
   "execution_count": 182,
   "id": "3b2b4671-b104-45cd-abef-ad3a3058135a",
   "metadata": {},
   "outputs": [],
   "source": [
    "MAGNETIC_MOMENTS = np.einsum('bji,jk,bki->bi', STATES.conj(), -Hz, STATES, optimize='optimal')"
   ]
  },
  {
   "cell_type": "code",
   "execution_count": 183,
   "id": "b6d92364-707b-498f-af4d-f083841056ca",
   "metadata": {},
   "outputs": [],
   "source": [
    "dipole_op_zero = calculate.dipole(N_MAX,I1,I2,1,0)\n",
    "dipole_op_minus = calculate.dipole(N_MAX,I1,I2,1,-1)\n",
    "dipole_op_plus = calculate.dipole(N_MAX,I1,I2,1,+1)"
   ]
  },
  {
   "cell_type": "code",
   "execution_count": 184,
   "id": "74c42360-a065-45ec-94e4-a725e067617f",
   "metadata": {},
   "outputs": [],
   "source": [
    "                                           #[b,ci,ui]              [ui,uj]         #[b,uj,cj]\n",
    "COUPLINGS_ZERO = STATES[:, :, :].conj().transpose(0, 2, 1) @ dipole_op_zero @ STATES[:, :, :]\n",
    "COUPLINGS_MINUS = STATES[:, :, :].conj().transpose(0, 2, 1) @ dipole_op_minus @ STATES[:, :, :]\n",
    "COUPLINGS_PLUS = STATES[:, :, :].conj().transpose(0, 2, 1) @ dipole_op_plus @ STATES[:, :, :]"
   ]
  },
  {
   "cell_type": "code",
   "execution_count": 185,
   "id": "71df71e9-1238-4950-b312-17695c40fe68",
   "metadata": {},
   "outputs": [
    {
     "name": "stderr",
     "output_type": "stream",
     "text": [
      "  0%|                                                   | 0/288 [00:00<?, ?it/s]/var/folders/lt/2lfqhmyn1n9bbwg1sqf3zzwc0000gn/T/ipykernel_2405/519505223.py:13: ComplexWarning: Casting complex values to real discards the imaginary part\n",
      "  COUPLINGS_SPARSE[edge_indices[0]:edge_indices[1],:] = COUPLINGS_ZERO[:,ii,up_zero].T\n",
      "/var/folders/lt/2lfqhmyn1n9bbwg1sqf3zzwc0000gn/T/ipykernel_2405/519505223.py:14: ComplexWarning: Casting complex values to real discards the imaginary part\n",
      "  COUPLINGS_SPARSE[edge_indices[1]:edge_indices[2],:] = COUPLINGS_PLUS[:,ii,up_pos].T\n",
      "/var/folders/lt/2lfqhmyn1n9bbwg1sqf3zzwc0000gn/T/ipykernel_2405/519505223.py:15: ComplexWarning: Casting complex values to real discards the imaginary part\n",
      "  COUPLINGS_SPARSE[edge_indices[2]:edge_indices[3],:] = COUPLINGS_MINUS[:,ii,up_minus].T\n",
      "/var/folders/lt/2lfqhmyn1n9bbwg1sqf3zzwc0000gn/T/ipykernel_2405/519505223.py:16: ComplexWarning: Casting complex values to real discards the imaginary part\n",
      "  COUPLINGS_SPARSE[edge_indices[3]:edge_indices[4],:] = COUPLINGS_ZERO[:,ii,down_zero].T\n",
      "/var/folders/lt/2lfqhmyn1n9bbwg1sqf3zzwc0000gn/T/ipykernel_2405/519505223.py:17: ComplexWarning: Casting complex values to real discards the imaginary part\n",
      "  COUPLINGS_SPARSE[edge_indices[4]:edge_indices[5],:] = COUPLINGS_PLUS[:,ii,down_pos].T\n",
      "/var/folders/lt/2lfqhmyn1n9bbwg1sqf3zzwc0000gn/T/ipykernel_2405/519505223.py:18: ComplexWarning: Casting complex values to real discards the imaginary part\n",
      "  COUPLINGS_SPARSE[edge_indices[5]:edge_indices[6],:] = COUPLINGS_MINUS[:,ii,down_minus].T\n",
      "100%|████████████████████████████████████████| 288/288 [00:02<00:00, 116.72it/s]\n"
     ]
    }
   ],
   "source": [
    "COUPLINGS_SPARSE = np.zeros((N_TRANSITIONS,B_STEPS),dtype=np.double)\n",
    "\n",
    "for ii, (N,MF_D,d) in tqdm(enumerate(generated_labels),total=N_STATES):\n",
    "    edge_indices = label_d_to_edge_indices(N,MF_D,d)\n",
    "\n",
    "    up_zero = generated_edge_indices[edge_indices[0]:edge_indices[1],1]\n",
    "    up_pos =  generated_edge_indices[edge_indices[1]:edge_indices[2],1]\n",
    "    up_minus = generated_edge_indices[edge_indices[2]:edge_indices[3],1]\n",
    "    down_zero = generated_edge_indices[edge_indices[3]:edge_indices[4],1]\n",
    "    down_pos = generated_edge_indices[edge_indices[4]:edge_indices[5],1]\n",
    "    down_minus = generated_edge_indices[edge_indices[5]:edge_indices[6],1]\n",
    "\n",
    "    COUPLINGS_SPARSE[edge_indices[0]:edge_indices[1],:] = COUPLINGS_ZERO[:,ii,up_zero].T\n",
    "    COUPLINGS_SPARSE[edge_indices[1]:edge_indices[2],:] = COUPLINGS_PLUS[:,ii,up_pos].T\n",
    "    COUPLINGS_SPARSE[edge_indices[2]:edge_indices[3],:] = COUPLINGS_MINUS[:,ii,up_minus].T\n",
    "    COUPLINGS_SPARSE[edge_indices[3]:edge_indices[4],:] = COUPLINGS_ZERO[:,ii,down_zero].T\n",
    "    COUPLINGS_SPARSE[edge_indices[4]:edge_indices[5],:] = COUPLINGS_PLUS[:,ii,down_pos].T\n",
    "    COUPLINGS_SPARSE[edge_indices[5]:edge_indices[6],:] = COUPLINGS_MINUS[:,ii,down_minus].T"
   ]
  },
  {
   "cell_type": "markdown",
   "id": "22a8ea9e-93f2-4a70-8c09-814d2c7b5612",
   "metadata": {
    "cell_marker": "\"\"\""
   },
   "source": [
    "# Optimise for t_gate in each transition"
   ]
  },
  {
   "cell_type": "code",
   "execution_count": 343,
   "id": "383aebdf-bc10-4a47-b54f-b3ac5817fd66",
   "metadata": {},
   "outputs": [],
   "source": [
    "T_G_UNPOL = np.zeros((N_TRANSITIONS,B_STEPS),dtype=np.double)\n",
    "T_G_POL = np.zeros((N_TRANSITIONS,B_STEPS),dtype=np.double)\n",
    "for i,label_pair in enumerate(generated_edge_labels):\n",
    "    from_label = label_pair[0:3]\n",
    "    to_label = label_pair[3:6]\n",
    "    if from_label[0]>to_label[0]:\n",
    "        from_label,to_label = to_label,from_label\n",
    "\n",
    "    P=(from_label[0]-to_label[0])*(to_label[1]-from_label[1])\n",
    "    if P == 0:\n",
    "        section_index = 0\n",
    "    elif P == 2:\n",
    "        section_index = 1\n",
    "    elif P == -2:\n",
    "        section_index = 2\n",
    "    \n",
    "    from_node_index = label_d_to_node_index(*from_label)\n",
    "    to_node_index = label_d_to_node_index(*to_label)\n",
    "\n",
    "    from_neighbours = label_d_to_edge_indices(*from_label)\n",
    "    to_neighbours = label_d_to_edge_indices(*to_label)\n",
    "\n",
    "    specific_up_index = from_neighbours[section_index]+to_label[2]\n",
    "    \n",
    "    up_node_indices = generated_edge_indices[from_neighbours[0]:from_neighbours[3],1]\n",
    "    down_node_indices = generated_edge_indices[to_neighbours[3]:to_neighbours[6],1]\n",
    "    \n",
    "    deltas_up   = np.abs(ENERGIES[up_node_indices,:] - ENERGIES[to_node_index,:])/H_BAR\n",
    "    deltas_down = np.abs(ENERGIES[down_node_indices,:] - ENERGIES[from_node_index,:])/H_BAR\n",
    "    \n",
    "    mask_up = up_node_indices == to_node_index\n",
    "    mask_down = down_node_indices == from_node_index\n",
    "    \n",
    "    deltas_up[mask_up,:] += 1e9\n",
    "    deltas_down[mask_down,:] += 1e9\n",
    "\n",
    "    specific_coupling = COUPLINGS_SPARSE[specific_up_index,:]\n",
    "\n",
    "    gs_up = np.abs(COUPLINGS_SPARSE[from_neighbours[0]:from_neighbours[3],:]/specific_coupling)\n",
    "    gs_down = np.abs(COUPLINGS_SPARSE[to_neighbours[3]:to_neighbours[6],:]/specific_coupling)\n",
    "    \n",
    "    r_up_unpol = np.abs(gs_up/deltas_up)\n",
    "    r_down_unpol = np.abs(gs_down/deltas_down)\n",
    "    \n",
    "    start_index_from = from_neighbours[0]\n",
    "    start_index_to = to_neighbours[0]\n",
    "    r_up_pol = r_up_unpol[from_neighbours[section_index]-start_index_from:from_neighbours[section_index+1]-start_index_from,:]\n",
    "    r_down_pol = r_up_unpol[to_neighbours[section_index+3]-start_index_to:to_neighbours[section_index+4]-start_index_to,:]\n",
    "    \n",
    "    er_unpol = np.sqrt(np.sum(r_up_unpol**2,axis=0)+np.sum(r_down_unpol**2,axis=0))\n",
    "    er_pol = np.sqrt(np.sum(r_up_pol**2,axis=0)+np.sum(r_down_pol**2,axis=0))\n",
    "    \n",
    "    ###\n",
    "    T_G_UNPOL[i] = 2*np.pi*er_unpol\n",
    "    T_G_POL[i] = 2*np.pi*er_pol"
   ]
  },
  {
   "cell_type": "markdown",
   "id": "d8c7e61b-ae17-4c80-988b-9e1e4242d9d1",
   "metadata": {},
   "source": [
    "# Path from initial to any state"
   ]
  },
  {
   "cell_type": "code",
   "execution_count": 433,
   "id": "498e6135-d5ff-4d75-8f9c-1382de13b4b7",
   "metadata": {},
   "outputs": [],
   "source": [
    "cumulative_unpol_fidelity_from_initials = np.zeros((B_STEPS,N_STATES),dtype=np.double)\n",
    "predecessor_unpol_fidelity_from_initials = np.zeros((B_STEPS,N_STATES),dtype=int)\n",
    "\n",
    "cumulative_pol_fidelity_from_initials = np.zeros((B_STEPS,N_STATES),dtype=np.double)\n",
    "predecessor_pol_fidelity_from_initials = np.zeros((B_STEPS,N_STATES),dtype=int)\n",
    "\n",
    "for bi in range(B_STEPS):\n",
    "    distance_matrix = np.zeros((N_STATES,N_STATES))\n",
    "    for i,(si,di) in enumerate(generated_edge_indices):\n",
    "        distance_matrix[si,di] = T_G_UNPOL[i,bi]\n",
    "    distance_matrix_csr = csr_matrix(distance_matrix)\n",
    "    (distances_from_initials),(predecessors_from_initials) = csgraph.shortest_path(distance_matrix_csr,return_predecessors=True,directed=False,indices=INITIAL_STATE_INDICES)\n",
    "    best_start = np.argmin(distances_from_initials,axis=0)\n",
    "    cumulative_unpol_fidelity_from_initials[bi]=np.take_along_axis(distances_from_initials,np.expand_dims(best_start,axis=0),axis=0)\n",
    "    predecessor_unpol_fidelity_from_initials[bi]=np.take_along_axis(predecessors_from_initials,np.expand_dims(best_start,axis=0),axis=0)\n",
    "    \n",
    "    distance_matrix = np.zeros((N_STATES,N_STATES))\n",
    "    for i,(si,di) in enumerate(generated_edge_indices):\n",
    "        distance_matrix[si,di] = T_G_POL[i,bi]\n",
    "    distance_matrix_csr = csr_matrix(distance_matrix)\n",
    "    (distances_from_initials),(predecessors_from_initials) = csgraph.shortest_path(distance_matrix_csr,return_predecessors=True,directed=False,indices=INITIAL_STATE_INDICES)\n",
    "    best_start = np.argmin(distances_from_initials,axis=0)\n",
    "    cumulative_pol_fidelity_from_initials[bi]=np.take_along_axis(distances_from_initials,np.expand_dims(best_start,axis=0),axis=0)\n",
    "    predecessor_pol_fidelity_from_initials[bi]=np.take_along_axis(predecessors_from_initials,np.expand_dims(best_start,axis=0),axis=0)\n",
    "    \n",
    "cumulative_unpol_fidelity_from_initials = cumulative_unpol_fidelity_from_initials.T\n",
    "predecessor_unpol_fidelity_from_initials = predecessor_unpol_fidelity_from_initials.T\n",
    "\n",
    "cumulative_pol_fidelity_from_initials = cumulative_pol_fidelity_from_initials.T\n",
    "predecessor_pol_fidelity_from_initials = predecessor_pol_fidelity_from_initials.T"
   ]
  },
  {
   "cell_type": "markdown",
   "id": "27054f82-2746-404d-a0fd-a756adde9604",
   "metadata": {
    "cell_marker": "\"\"\""
   },
   "source": [
    "# Save to files"
   ]
  },
  {
   "cell_type": "code",
   "execution_count": 437,
   "id": "b2ac1aab-544d-4d49-a7f0-2070efe185a8",
   "metadata": {},
   "outputs": [],
   "source": [
    "np.savez_compressed(f'../precomputed/{settings_string}.npz',\n",
    "                    b = B,\n",
    "                    energies = ENERGIES,\n",
    "                    states = STATES,\n",
    "                    \n",
    "                    uncoupled_labels_d = UNCOUPLED_LABELS_D,\n",
    "                    \n",
    "                    labels_d = generated_labels,\n",
    "                    labels_degeneracy = label_degeneracy_cache,\n",
    "                    state_jump_list = state_jump_list,\n",
    "                    \n",
    "                    transition_labels_d = generated_edge_labels,\n",
    "                    transition_indices = generated_edge_indices, \n",
    "                    edge_jump_list = edge_jump_list,\n",
    "                    \n",
    "                    magnetic_moments = MAGNETIC_MOMENTS, \n",
    "                    couplings_sparse = COUPLINGS_SPARSE,\n",
    "                    transition_gate_times_pol = T_G_POL,\n",
    "                    transition_gate_times_unpol = T_G_UNPOL,\n",
    "                    \n",
    "                    cumulative_unpol_time_from_initials = cumulative_unpol_fidelity_from_initials,\n",
    "                    predecessor_unpol_time_from_initials = predecessor_unpol_fidelity_from_initials,\n",
    "                    cumulative_pol_time_from_initials = cumulative_pol_fidelity_from_initials,\n",
    "                    predecessor_pol_time_from_initials = predecessor_pol_fidelity_from_initials,\n",
    "                   )"
   ]
  },
  {
   "cell_type": "markdown",
   "id": "6c009f46-cfe5-4dea-9264-987dda82d948",
   "metadata": {
    "cell_marker": "\"\"\""
   },
   "source": [
    "# How to load file\n",
    "Copy 'Defining Parameters' and 'Computed Constants' section, then load the file from computed `settings_string`."
   ]
  },
  {
   "cell_type": "code",
   "execution_count": 15,
   "id": "9ff72cbb-b56c-4463-8df7-92e488b76b79",
   "metadata": {},
   "outputs": [
    {
     "name": "stdout",
     "output_type": "stream",
     "text": [
      "(1449, 288)\n"
     ]
    }
   ],
   "source": [
    "data = np.load(f'../precomputed/{settings_string}.npz')\n",
    "energies_loaded = data['energies']\n",
    "print(energies_loaded.shape)"
   ]
  }
 ],
 "metadata": {
  "jupytext": {
   "cell_markers": "\"\"\"",
   "formats": "notebooks//ipynb,scripts//py:percent"
  },
  "kernelspec": {
   "display_name": "Python 3 (ipykernel)",
   "language": "python",
   "name": "python3"
  },
  "language_info": {
   "codemirror_mode": {
    "name": "ipython",
    "version": 3
   },
   "file_extension": ".py",
   "mimetype": "text/x-python",
   "name": "python",
   "nbconvert_exporter": "python",
   "pygments_lexer": "ipython3",
   "version": "3.10.8"
  },
  "vscode": {
   "interpreter": {
    "hash": "bbd9c84f699e830af4c0af31dc94000b2c777a89cb5d82dcf820c2c6502b2da2"
   }
  }
 },
 "nbformat": 4,
 "nbformat_minor": 5
}
