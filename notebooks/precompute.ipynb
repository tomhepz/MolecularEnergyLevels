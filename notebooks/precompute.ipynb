{
 "cells": [
  {
   "cell_type": "markdown",
   "id": "52110b0b-6aaa-41ae-98cc-90d831240c1a",
   "metadata": {
    "cell_marker": "\"\"\""
   },
   "source": [
    "# This file computes diagonalisation & pre-computes results for use later"
   ]
  },
  {
   "cell_type": "markdown",
   "id": "31f89c1a",
   "metadata": {
    "cell_marker": "\"\"\""
   },
   "source": [
    "## Import appropriate modules"
   ]
  },
  {
   "cell_type": "code",
   "execution_count": 1,
   "id": "da2e57b0",
   "metadata": {},
   "outputs": [],
   "source": [
    "import numpy as np\n",
    "from numpy.linalg import eigh\n",
    "from numpy import save, savez, savez_compressed\n",
    "import ast\n",
    "\n",
    "import diatom.hamiltonian as hamiltonian\n",
    "import diatom.calculate as calculate\n",
    "from diatom.constants import *\n",
    "\n",
    "import scipy.constants"
   ]
  },
  {
   "cell_type": "markdown",
   "id": "f44df710",
   "metadata": {
    "cell_marker": "\"\"\""
   },
   "source": [
    "## Defining parameters"
   ]
  },
  {
   "cell_type": "code",
   "execution_count": 2,
   "id": "e3fe452b-c81f-4ba5-9a08-cbc6fe4140d7",
   "metadata": {},
   "outputs": [],
   "source": [
    "MOLECULE_STRING = \"Na23Cs133\"\n",
    "MOLECULE = Na23Cs133\n",
    "N_MAX=2\n",
    "\n",
    "B_MIN_GAUSS = 0.001 #G\n",
    "B_MAX_GAUSS = 1000 #G\n",
    "B_STEPS = 500\n",
    "\n",
    "PULSE_TIME_US = 500 #μs\n",
    "\n",
    "settings_string = f'{MOLECULE_STRING}NMax{N_MAX}BMin{B_MIN_GAUSS}BMax{B_MAX_GAUSS}BSteps{B_STEPS}PTime{PULSE_TIME_US}'"
   ]
  },
  {
   "cell_type": "markdown",
   "id": "fe35044a-b1f9-477c-ab77-4cafcb1edcef",
   "metadata": {
    "cell_marker": "\"\"\""
   },
   "source": [
    "## Computed Constants"
   ]
  },
  {
   "cell_type": "code",
   "execution_count": 3,
   "id": "bddf4b42-6a3a-4229-9211-4e8b48e92b59",
   "metadata": {},
   "outputs": [],
   "source": [
    "H_BAR = scipy.constants.hbar\n",
    "\n",
    "I1 = MOLECULE[\"I1\"]\n",
    "I2 = MOLECULE[\"I2\"]\n",
    "I1_D = round(2*I1)\n",
    "I2_D = round(2*I2)\n",
    "\n",
    "D_0 = MOLECULE[\"d0\"]\n",
    "\n",
    "PER_MN = round((2*I1+1)*(2*I2+1))\n",
    "N_STATES = PER_MN * (N_MAX+1)**2\n",
    "\n",
    "GAUSS = 1e-4 # T\n",
    "B_MIN = B_MIN_GAUSS * GAUSS # T\n",
    "B_MAX = B_MAX_GAUSS * GAUSS # T\n",
    "PULSE_TIME = PULSE_TIME_US * 1e-6 # s\n",
    "\n",
    "B, B_STEP_SIZE = np.linspace(B_MIN, B_MAX, B_STEPS, retstep=True) #T "
   ]
  },
  {
   "cell_type": "markdown",
   "id": "1d8b4d6b",
   "metadata": {
    "cell_marker": "\"\"\""
   },
   "source": [
    "## Diagonalise & Calculate "
   ]
  },
  {
   "cell_type": "code",
   "execution_count": 4,
   "id": "96246013-f3d2-453b-abe5-6522982a6439",
   "metadata": {},
   "outputs": [],
   "source": [
    "H0,Hz,Hdc,Hac = hamiltonian.build_hamiltonians(N_MAX, MOLECULE, zeeman=True, Edc=False, ac=False)\n",
    "\n",
    "H = (\n",
    "    +H0[..., None]\n",
    "    +Hz[..., None]*B\n",
    "    # +Hdc[..., None]*E\n",
    "    # +Hac[..., None]*I\n",
    "    )\n",
    "H = H.transpose(2,0,1)"
   ]
  },
  {
   "cell_type": "code",
   "execution_count": 5,
   "id": "9210a2de-4279-4413-8fec-04ce1c920926",
   "metadata": {},
   "outputs": [],
   "source": [
    "ENERGIES_UNSORTED, STATES_UNSORTED = eigh(H)"
   ]
  },
  {
   "cell_type": "code",
   "execution_count": 6,
   "id": "5c698a65-f41c-4a18-8288-ecc12a25ca92",
   "metadata": {},
   "outputs": [],
   "source": [
    "ENERGIES_HALF_SORTED, STATES_HALF_SORTED = calculate.sort_smooth(ENERGIES_UNSORTED,STATES_UNSORTED)"
   ]
  },
  {
   "cell_type": "code",
   "execution_count": 7,
   "id": "2b9cf104-93e5-4c30-913f-374d4aeb654f",
   "metadata": {},
   "outputs": [],
   "source": [
    "ENERGIES, STATES, labels_d = calculate.sort_by_state(ENERGIES_HALF_SORTED, STATES_HALF_SORTED, N_MAX, MOLECULE)"
   ]
  },
  {
   "cell_type": "code",
   "execution_count": 8,
   "id": "7d59b98b-bb99-4954-b857-0c73caeec806",
   "metadata": {},
   "outputs": [],
   "source": [
    "labels_d[:,1] *= 2 # Double MF to guarantee int\n",
    "LABELS_D=(np.rint(labels_d)).astype(\"int\")"
   ]
  },
  {
   "cell_type": "code",
   "execution_count": 9,
   "id": "7fafd2de-7e14-46f0-975a-51af2f6f998a",
   "metadata": {},
   "outputs": [],
   "source": [
    "UNCOUPLED_LABELS_D = []\n",
    "\n",
    "for n in range(0, N_MAX + 1):\n",
    "    for mn in range(n,-(n+1),-1):\n",
    "        for mi1d in range(I1_D,-I1_D-1,-2):\n",
    "            for mi2d in range(I2_D,-I2_D-1,-2):\n",
    "                UNCOUPLED_LABELS_D.append((n,mn,mi1d,mi2d))\n",
    "\n",
    "UNCOUPLED_LABELS_D = (np.rint(UNCOUPLED_LABELS_D)).astype(\"int\") # TODO: Fix 1/2 int spin"
   ]
  },
  {
   "cell_type": "code",
   "execution_count": 10,
   "id": "3b2b4671-b104-45cd-abef-ad3a3058135a",
   "metadata": {},
   "outputs": [],
   "source": [
    "MAGNETIC_MOMENTS = np.einsum('bji,jk,bki->bi', STATES.conj(), -Hz, STATES, optimize='optimal')"
   ]
  },
  {
   "cell_type": "code",
   "execution_count": 11,
   "id": "b6d92364-707b-498f-af4d-f083841056ca",
   "metadata": {},
   "outputs": [],
   "source": [
    "dipole_op_zero = calculate.dipole(N_MAX,I1,I2,1,0)\n",
    "dipole_op_minus = calculate.dipole(N_MAX,I1,I2,1,-1)\n",
    "dipole_op_plus = calculate.dipole(N_MAX,I1,I2,1,+1)"
   ]
  },
  {
   "cell_type": "code",
   "execution_count": 12,
   "id": "74c42360-a065-45ec-94e4-a725e067617f",
   "metadata": {},
   "outputs": [],
   "source": [
    "COUPLINGS_ZERO = STATES[:, :, :].conj().transpose(0, 2, 1) @ dipole_op_zero @ STATES[:, :, :]\n",
    "COUPLINGS_MINUS = STATES[:, :, :].conj().transpose(0, 2, 1) @ dipole_op_minus @ STATES[:, :, :]\n",
    "COUPLINGS_PLUS = STATES[:, :, :].conj().transpose(0, 2, 1) @ dipole_op_plus @ STATES[:, :, :]\n",
    "COUPLINGS_UNPOLARISED = COUPLINGS_ZERO + COUPLINGS_MINUS + COUPLINGS_PLUS"
   ]
  },
  {
   "cell_type": "markdown",
   "id": "8d6d0dfe-bff6-40c1-ac49-c32ea6658738",
   "metadata": {
    "cell_marker": "\"\"\""
   },
   "source": [
    "# All pairs best fidelity"
   ]
  },
  {
   "cell_type": "code",
   "execution_count": 13,
   "id": "2b72f7b5-7c30-48ec-8a05-b9005f7c1a03",
   "metadata": {},
   "outputs": [],
   "source": [
    "def twice_average_fidelity(k,g):\n",
    "    return ((1 + g**2)**2 + 8*k**2*(-1 + 2*g**2) + 16*k**4)/((1 + g**2)**3 + (-8 + 20*g**2 + g**4)*k**2 + 16*k**4)"
   ]
  },
  {
   "cell_type": "code",
   "execution_count": 14,
   "id": "afe08410-d72d-481e-8d39-81e552ccf838",
   "metadata": {},
   "outputs": [],
   "source": [
    "POLARISED_PAIR_FIDELITIES_UT = np.zeros((N_STATES,N_STATES,B_STEPS))\n",
    "UNPOLARISED_PAIR_FIDELITIES_UT = np.zeros((N_STATES,N_STATES,B_STEPS))\n",
    "\n",
    "for Na in range(N_MAX):\n",
    "    Nb = Na+1\n",
    "    lowera = PER_MN * (Na)**2\n",
    "    uppera = lowera + PER_MN*(2*Na+1)\n",
    "    upperb = uppera + PER_MN*(2*Nb+1)\n",
    "    for i in range(lowera,uppera):\n",
    "        li = LABELS_D[i,:]\n",
    "        for j in range(uppera,upperb):\n",
    "            lj = LABELS_D[j,:]\n",
    "            P = (lj[1]-li[1])*(li[0]-lj[0])\n",
    "            if P not in [-2,0,2]:\n",
    "                continue\n",
    "            P=int(P/2)\n",
    "\n",
    "            couplings_polarised = [COUPLINGS_ZERO,COUPLINGS_PLUS,COUPLINGS_MINUS][P]\n",
    "\n",
    "            ks_up = np.abs((ENERGIES[:, :] - ENERGIES[:, j, None]) * PULSE_TIME / scipy.constants.h)\n",
    "            ks_down = np.abs((ENERGIES[:, :] - ENERGIES[:, i, None]) * PULSE_TIME / scipy.constants.h)\n",
    "\n",
    "            gs_unpolarised_up = np.abs(COUPLINGS_UNPOLARISED[:, i, :]/COUPLINGS_UNPOLARISED[:, i, j, None])\n",
    "            gs_polarised_up = np.abs(couplings_polarised[:, i, :]/couplings_polarised[:, i, j, None])\n",
    "\n",
    "            gs_unpolarised_down = np.abs(COUPLINGS_UNPOLARISED[:, j, :]/COUPLINGS_UNPOLARISED[:, i, j, None])\n",
    "            gs_polarised_down = np.abs(couplings_polarised[:, j, :]/couplings_polarised[:, i, j, None])\n",
    "\n",
    "            fidelities_unpolarised_up = twice_average_fidelity(ks_up,gs_unpolarised_up)\n",
    "            fidelities_unpolarised_down = twice_average_fidelity(ks_down,gs_unpolarised_down)\n",
    "\n",
    "            fidelities_polarised_up = twice_average_fidelity(ks_up,gs_polarised_up)\n",
    "            fidelities_polarised_down = twice_average_fidelity(ks_down,gs_polarised_down)\n",
    "\n",
    "            fidelities_unpolarised_up[:,np.array([i,j])] = 1\n",
    "            fidelities_unpolarised_down[:,np.array([i,j])] = 1\n",
    "            fidelities_polarised_up[:,np.array([i,j])] = 1\n",
    "            fidelities_polarised_down[:,np.array([i,j])] = 1\n",
    "\n",
    "            UNPOLARISED_PAIR_FIDELITIES_UT[i,j,:] = np.prod(fidelities_unpolarised_up,axis=1) * np.prod(fidelities_unpolarised_down,axis=1)\n",
    "            POLARISED_PAIR_FIDELITIES_UT[i,j,:] = np.prod(fidelities_polarised_up,axis=1) * np.prod(fidelities_polarised_down,axis=1)"
   ]
  },
  {
   "cell_type": "markdown",
   "id": "7dac6bcc-b69a-4cf2-b1fc-babf735f3524",
   "metadata": {
    "cell_marker": "\"\"\""
   },
   "source": [
    "# Save to files"
   ]
  },
  {
   "cell_type": "code",
   "execution_count": 15,
   "id": "b2ac1aab-544d-4d49-a7f0-2070efe185a8",
   "metadata": {},
   "outputs": [],
   "source": [
    "np.savez_compressed(f'../precomputed/{settings_string}.npz', \n",
    "                    energies = ENERGIES,\n",
    "                    states = STATES, \n",
    "                    labels_d = LABELS_D,\n",
    "                    uncoupled_labels_d = UNCOUPLED_LABELS_D,\n",
    "                    magnetic_moments = MAGNETIC_MOMENTS, \n",
    "                    couplings_zero = COUPLINGS_ZERO,\n",
    "                    couplings_minus = COUPLINGS_MINUS,\n",
    "                    couplings_plus = COUPLINGS_PLUS,\n",
    "                    unpolarised_pair_fidelities_ut = UNPOLARISED_PAIR_FIDELITIES_UT,\n",
    "                    polarised_pair_fidelities_ut = POLARISED_PAIR_FIDELITIES_UT\n",
    "                   )"
   ]
  },
  {
   "cell_type": "markdown",
   "id": "6c009f46-cfe5-4dea-9264-987dda82d948",
   "metadata": {
    "cell_marker": "\"\"\""
   },
   "source": [
    "# How to load file\n",
    "Copy 'Defining Parameters' and 'Computed Constants' section, then load the file from computed `settings_string`."
   ]
  },
  {
   "cell_type": "code",
   "execution_count": 16,
   "id": "9ff72cbb-b56c-4463-8df7-92e488b76b79",
   "metadata": {},
   "outputs": [
    {
     "name": "stdout",
     "output_type": "stream",
     "text": [
      "(500, 288)\n"
     ]
    }
   ],
   "source": [
    "data = np.load(f'../precomputed/{settings_string}.npz')\n",
    "energies_loaded = data['energies']\n",
    "print(energies_loaded.shape)"
   ]
  }
 ],
 "metadata": {
  "jupytext": {
   "cell_markers": "\"\"\"",
   "formats": "notebooks//ipynb,scripts//py:percent"
  },
  "kernelspec": {
   "display_name": "Python 3 (ipykernel)",
   "language": "python",
   "name": "python3"
  },
  "language_info": {
   "codemirror_mode": {
    "name": "ipython",
    "version": 3
   },
   "file_extension": ".py",
   "mimetype": "text/x-python",
   "name": "python",
   "nbconvert_exporter": "python",
   "pygments_lexer": "ipython3",
   "version": "3.10.8"
  }
 },
 "nbformat": 4,
 "nbformat_minor": 5
}
