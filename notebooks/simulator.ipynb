{
 "cells": [
  {
   "cell_type": "markdown",
   "id": "3e15d1a6",
   "metadata": {
    "cell_marker": "\"\"\""
   },
   "source": [
    "# Import appropriate modules TEST2"
   ]
  },
  {
   "cell_type": "code",
   "execution_count": null,
   "id": "d5561a09",
   "metadata": {},
   "outputs": [],
   "source": [
    "import numpy as np\n",
    "from numpy.linalg import eigh\n",
    "from numpy import load\n",
    "np.set_printoptions(threshold=np.inf, linewidth=np.inf)\n",
    "np.set_printoptions(formatter={'float': lambda x: \"{0:0.3e}\".format(x)})\n",
    "\n",
    "import diatom.hamiltonian as hamiltonian\n",
    "import diatom.calculate as calculate\n",
    "from diatom.constants import Rb87Cs133\n",
    "\n",
    "import scipy.constants\n",
    "from scipy.linalg import expm\n",
    "\n",
    "import matplotlib.pyplot as plt\n",
    "import matplotlib.colors\n",
    "from matplotlib.gridspec import GridSpec\n",
    "\n",
    "from tqdm import tqdm, trange\n",
    "\n",
    "import itertools\n",
    "\n",
    "# plt.rcParams[\"text.usetex\"] = True\n",
    "plt.rcParams[\"font.family\"] = 'sans-serif'\n",
    "plt.rcParams[\"figure.autolayout\"] = True\n",
    "plt.rcParams['figure.figsize'] = (4, 3.5)\n",
    "plt.rcParams['figure.dpi'] = 200\n",
    "# plt.rc('text.latex', preamble=r'\\usepackage[T1]{fontenc}\\usepackage{cmbright}\\usepackage{mathtools}')\n",
    "\n",
    "%matplotlib widget\n",
    "%config InlineBackend.figure_format = 'retina'"
   ]
  },
  {
   "cell_type": "markdown",
   "id": "c061f1c7",
   "metadata": {
    "cell_marker": "\"\"\""
   },
   "source": [
    "## Defining parameters"
   ]
  },
  {
   "cell_type": "code",
   "execution_count": null,
   "id": "0d37d914",
   "metadata": {},
   "outputs": [],
   "source": [
    "MOLECULE_STRING = \"Rb87Cs133\"\n",
    "MOLECULE = Rb87Cs133\n",
    "N_MAX=2\n",
    "\n",
    "B_MIN_GAUSS = 0.001 #G\n",
    "B_MAX_GAUSS = 1000 #G\n",
    "B_STEPS = 500\n",
    "\n",
    "PULSE_TIME_US = 500 #μs\n",
    "\n",
    "settings_string = f'{MOLECULE_STRING}NMax{N_MAX}BMin{B_MIN_GAUSS}BMax{B_MAX_GAUSS}BSteps{B_STEPS}PTime{PULSE_TIME_US}'"
   ]
  },
  {
   "cell_type": "markdown",
   "id": "993c3412",
   "metadata": {
    "cell_marker": "\"\"\""
   },
   "source": [
    "## Computed Constants"
   ]
  },
  {
   "cell_type": "code",
   "execution_count": null,
   "id": "5c294cd0",
   "metadata": {},
   "outputs": [],
   "source": [
    "H_BAR = scipy.constants.hbar\n",
    "muN = scipy.constants.physical_constants['nuclear magneton'][0]\n",
    "\n",
    "I1 = MOLECULE[\"I1\"]\n",
    "I2 = MOLECULE[\"I2\"]\n",
    "I1_D = round(2*I1)\n",
    "I2_D = round(2*I2)\n",
    "\n",
    "D_0 = MOLECULE[\"d0\"]\n",
    "\n",
    "PER_MN = round((2*I1+1)*(2*I2+1))\n",
    "N_STATES = PER_MN * (N_MAX+1)**2\n",
    "\n",
    "GAUSS = 1e-4 # T\n",
    "B_MIN = B_MIN_GAUSS * GAUSS # T\n",
    "B_MAX = B_MAX_GAUSS * GAUSS # T\n",
    "PULSE_TIME = PULSE_TIME_US * 1e-6 # s\n",
    "\n",
    "B, B_STEP_SIZE = np.linspace(B_MIN, B_MAX, B_STEPS, retstep=True) #T "
   ]
  },
  {
   "cell_type": "markdown",
   "id": "06e48ab9",
   "metadata": {
    "cell_marker": "\"\"\""
   },
   "source": [
    "# Load precomputed results"
   ]
  },
  {
   "cell_type": "code",
   "execution_count": null,
   "id": "82522f89",
   "metadata": {},
   "outputs": [],
   "source": [
    "data = np.load(f'../precomputed/{settings_string}.npz')\n",
    "\n",
    "ENERGIES = data['energies']\n",
    "STATES = data['states']\n",
    "\n",
    "LABELS_D=data['labels_d']\n",
    "UNCOUPLED_LABELS_D=data['uncoupled_labels_d']\n",
    "\n",
    "MAGNETIC_MOMENTS=data['magnetic_moments'] \n",
    "\n",
    "COUPLINGS_ZERO=data['couplings_zero']\n",
    "COUPLINGS_MINUS=data['couplings_minus']\n",
    "COUPLINGS_PLUS=data['couplings_plus']\n",
    "COUPLINGS = COUPLINGS_ZERO+COUPLINGS_MINUS+COUPLINGS_PLUS\n",
    "POLARISED_COUPLING = [COUPLINGS_ZERO,COUPLINGS_PLUS,COUPLINGS_MINUS]\n",
    "\n",
    "UNPOLARISED_PAIR_FIDELITIES = data['unpolarised_pair_fidelities_ut']\n",
    "UNPOLARISED_PAIR_FIDELITIES = UNPOLARISED_PAIR_FIDELITIES + UNPOLARISED_PAIR_FIDELITIES.transpose(1,0,2)\n",
    "POLARISED_PAIR_FIDELITIES = data['polarised_pair_fidelities_ut']\n",
    "POLARISED_PAIR_FIDELITIES = POLARISED_PAIR_FIDELITIES + POLARISED_PAIR_FIDELITIES.transpose(1,0,2)"
   ]
  },
  {
   "cell_type": "markdown",
   "id": "cc6ec28a",
   "metadata": {
    "cell_marker": "\"\"\""
   },
   "source": [
    "# Helper Functions"
   ]
  },
  {
   "cell_type": "code",
   "execution_count": null,
   "id": "2588b30d",
   "metadata": {},
   "outputs": [],
   "source": [
    "def label_to_state_no(N,MF_D,k):\n",
    "    return np.where((LABELS_D[:, 0] == N) & (LABELS_D[:, 1] == MF_D) & (LABELS_D[:, 2] == k))[0][0]\n",
    "\n",
    "def state_no_to_uncoupled_label(state_no):\n",
    "    return UNCOUPLED_LABELS_D[state_no]"
   ]
  },
  {
   "cell_type": "code",
   "execution_count": null,
   "id": "5a63b216",
   "metadata": {},
   "outputs": [],
   "source": [
    "def label_d_to_string(label_d):\n",
    "    n = label_d[0]\n",
    "    mf_d = label_d[1]\n",
    "    mf_frac = mf_d%2\n",
    "    i = label_d[2]\n",
    "    if mf_frac == 0:\n",
    "        return f\"({n},{mf_d//2},{i})\"\n",
    "    else:\n",
    "        mf_whole= (mf_d - np.sign(mf_d))//2\n",
    "        return f\"({n},{mf_whole}.5,{i})\"\n",
    "\n",
    "def label_d_to_latex_string(label_d):\n",
    "    n = label_d[0]\n",
    "    mf_d = label_d[1]\n",
    "    mf_frac = mf_d%2\n",
    "    i = label_d[2]\n",
    "    if mf_frac == 0:\n",
    "        return r'|{},{}\\rangle_{{{}}}'.format(n,mf_d//2,i)\n",
    "    else:\n",
    "        mf_whole= (mf_d - np.sign(mf_d))//2\n",
    "        return r'|{},{}.5\\rangle_{{{}}}'.format(n,mf_whole,i)"
   ]
  },
  {
   "cell_type": "code",
   "execution_count": null,
   "id": "216af6ea",
   "metadata": {},
   "outputs": [],
   "source": [
    "def label_degeneracy(N,MF_D):\n",
    "    # Want number of ways of having\n",
    "    # MF = MN + (M_I1 + M_I2) # NP-Hard Problem SSP (Subset Sum)\n",
    "    d=0\n",
    "    for MN in range(-N,N+1):\n",
    "        for M_I1_D in range(-I1_D,I1_D+1,2):\n",
    "            for M_I2_D in range(-I2_D,I2_D+1,2):\n",
    "                if 2*MN+M_I1_D+M_I2_D == MF_D:\n",
    "                    d+=1\n",
    "    return d"
   ]
  },
  {
   "cell_type": "code",
   "execution_count": null,
   "id": "79be78be",
   "metadata": {},
   "outputs": [],
   "source": [
    "def twice_average_fidelity(k,g):\n",
    "    return ((1 + g**2)**2 + 8*k**2*(-1 + 2*g**2) + 16*k**4)/((1 + g**2)**3 + (-8 + 20*g**2 + g**4)*k**2 + 16*k**4)\n",
    "\n",
    "def maximum_fidelity(k,g):\n",
    "    phi = np.arccos((k*(18-9*g**2-8*k**2))/(3+3*g**2+4*k**2)**(3/2))/3\n",
    "    denominator = 54*((1+g**2)**3+(-8+20*g**2+g**4)*k**2+16*k**4)\n",
    "    numerator = (\n",
    "                 36*(g**4+(1-4*k**2)**2+2*g**2*(1+8*k**2))\n",
    "               + 32*k    *(3+3*g**2+4*k**2)**(3/2) *np.cos(phi)\n",
    "               - 64*k**2 *(3+3*g**2+4*k**2)        *np.cos(2*phi) \n",
    "               -  4      *(3+3*g**2+4*k**2)**2     *np.cos(4*phi)\n",
    "                )\n",
    "    return numerator/denominator\n",
    "\n",
    "def fidelity(ts,d=8):\n",
    "    return -np.log10(1-ts+10**(-d))"
   ]
  },
  {
   "cell_type": "markdown",
   "id": "4c9d3725",
   "metadata": {
    "cell_marker": "\"\"\""
   },
   "source": [
    "# Simulator"
   ]
  },
  {
   "cell_type": "code",
   "execution_count": null,
   "id": "b2bd4d61",
   "metadata": {},
   "outputs": [],
   "source": [
    "# Driven couplings between states\n",
    "chosen_states_coupling_labels = np.array([(0,8,1),(1,8,5)])\n",
    "chosen_coupling_labels = [\n",
    "    (chosen_states_coupling_labels[0],chosen_states_coupling_labels[1]),\n",
    "    # (chosen_states_coupling_labels[1],chosen_states_coupling_labels[2]),\n",
    "    # (chosen_states_coupling_labels[3],chosen_states_coupling_labels[2]),\n",
    "    # (chosen_states_coupling_labels[0],chosen_states_coupling_labels[3]),\n",
    "]\n",
    "\n",
    "# With what desired rabi period\n",
    "global_pulse_time = 500 * 1e-6 #s\n",
    "chosen_pulse_time = [global_pulse_time]*4\n",
    "\n",
    "# At what magnetic field\n",
    "chosen_bi = round(B_STEPS*(44.0891/B_MAX_GAUSS))\n",
    "\n",
    "# Only simulate other states that have strong off resonant coupling\n",
    "cutoff = 0.9999999 # =0 for only these =1 for all states\n",
    "        \n",
    "# Simulation resolution\n",
    "T_STEPS =  [803989,314927,195931,65519,41443,21319,9391,50][0] \n",
    "\n",
    "# Simulation time length (how many Rabi periods to show)\n",
    "TIME = chosen_pulse_time[0]*4"
   ]
  },
  {
   "cell_type": "code",
   "execution_count": null,
   "id": "f6087e89",
   "metadata": {},
   "outputs": [],
   "source": [
    "# Compute further constants and indices from molecular parameters\n",
    "if cutoff == 0:\n",
    "    chosen_states_labels = chosen_states_coupling_labels\n",
    "elif cutoff == 1:\n",
    "    chosen_states_labels = LABELS_D\n",
    "else:\n",
    "    needed_states = np.full(N_STATES, False)\n",
    "    for (al,bl),pt in zip(chosen_coupling_labels, chosen_pulse_time):\n",
    "        ai = label_to_state_no(*al)\n",
    "        bi = label_to_state_no(*bl)\n",
    "        ks_up = np.abs((ENERGIES[chosen_bi, :] - ENERGIES[chosen_bi, bi, None]) * pt / scipy.constants.h)\n",
    "        ks_down = np.abs((ENERGIES[chosen_bi, :] - ENERGIES[chosen_bi, ai, None]) * pt / scipy.constants.h)\n",
    "\n",
    "        gs_unpolarised_up = np.abs(COUPLINGS[chosen_bi, ai, :]/COUPLINGS[chosen_bi, ai, bi])\n",
    "        gs_unpolarised_down = np.abs(COUPLINGS[chosen_bi, bi, :]/COUPLINGS[chosen_bi, ai, bi])\n",
    "\n",
    "        fidelities_unpolarised_up = twice_average_fidelity(ks_up,gs_unpolarised_up)\n",
    "        fidelities_unpolarised_down = twice_average_fidelity(ks_down,gs_unpolarised_down)\n",
    "        \n",
    "        needed_states = needed_states + (fidelities_unpolarised_up < cutoff) + (fidelities_unpolarised_down < cutoff)\n",
    "        chosen_states_labels = LABELS_D[needed_states]\n",
    "    print(f\"These states passed the cutoff ({cutoff}):\")\n",
    "    print(chosen_states_labels)\n",
    "    \n",
    "chosen_states_coupling_subindices = [np.where((chosen_states_labels[:, 0] == N) & (chosen_states_labels[:, 1] == MF) & (chosen_states_labels[:, 2] == k))[0][0] for N,MF,k in chosen_states_coupling_labels]\n",
    "chosen_states_indices = np.array([label_to_state_no(*label) for label in chosen_states_labels])\n",
    "chosen_number_of_states = len(chosen_states_indices)"
   ]
  },
  {
   "cell_type": "code",
   "execution_count": null,
   "id": "9723bd97",
   "metadata": {},
   "outputs": [],
   "source": [
    "# Get Angular Frequency Matrix Diagonal for each B\n",
    "all_angular = ENERGIES[chosen_bi, :].real / H_BAR # [state]\n",
    "angular = all_angular[chosen_states_indices]\n",
    "\n",
    "all_couplings = COUPLINGS[chosen_bi]\n",
    "couplings = all_couplings[:,chosen_states_indices][chosen_states_indices,:]\n",
    "\n",
    "# Get driving frequencies & polarisations\n",
    "driving = []\n",
    "E_i = []\n",
    "for (l1,l2), pulse_time in zip(chosen_coupling_labels, chosen_pulse_time):\n",
    "    i1=label_to_state_no(*l1)\n",
    "    i2=label_to_state_no(*l2)\n",
    "    driving.append(np.abs(all_angular[i1]-all_angular[i2]))\n",
    "    E_i.append((2*np.pi*H_BAR) / (D_0 * all_couplings[i1,i2] * pulse_time))\n",
    "driving = np.array(driving)\n",
    "print(\"Driving (rad/s):\", driving)\n",
    "E_i = np.array(E_i,dtype=np.double)\n",
    "print(\"E (V/m):\", E_i)\n",
    "\n",
    "# Construct times\n",
    "times, DT = np.linspace(0,TIME,num=T_STEPS,retstep=True)\n",
    "\n",
    "# Construct kinetic time step operator (Matrix Diagonal)\n",
    "T_OP_DIAG = np.exp(-(1j) * angular * DT/2 )\n",
    "\n",
    "# Construct potential fixed part time step operator \n",
    "ORDER = 10\n",
    "V_TI_M = (-(1j)*D_0*couplings*DT)/H_BAR\n",
    "V_TI_M_POWS = np.array([np.linalg.matrix_power(V_TI_M, i)/np.math.factorial(i) for i in range(ORDER)])\n",
    "\n",
    "# Construct state vector\n",
    "state_vector = np.zeros((T_STEPS,chosen_number_of_states), dtype=np.cdouble)\n",
    "state_vector[0,chosen_states_coupling_subindices[0]] = np.sqrt(1)\n",
    "state_vector[0,chosen_states_coupling_subindices[0]] = np.sqrt(1)\n",
    "\n",
    "for t_num in trange(T_STEPS-1):\n",
    "    pres = E_i*np.cos(driving*times[t_num])\n",
    "    V_TD_POWS = np.sum(pres)**(np.arange(ORDER))\n",
    "    V_OP = np.sum(V_TI_M_POWS*V_TD_POWS[:,None,None],axis=0)\n",
    "    \n",
    "    DU = T_OP_DIAG[:,None] * V_OP[:,:] * T_OP_DIAG[None,:]\n",
    "    state_vector[t_num+1] = DU @ state_vector[t_num]\n",
    "\n",
    "resolution=20\n",
    "probabilities = np.abs(state_vector[::resolution,:])**2"
   ]
  },
  {
   "cell_type": "code",
   "execution_count": null,
   "id": "f5c47222",
   "metadata": {
    "lines_to_next_cell": 2
   },
   "outputs": [],
   "source": [
    "# Plot results\n",
    "fig,ax = plt.subplots(figsize=(5,3))\n",
    "ax.set_xlabel('t(us)')\n",
    "ax.set_ylim(0,1.0)\n",
    "ax.set_xlim(0,TIME*1e6)\n",
    "states_string = ','.join([f'${label_d_to_latex_string(label)}$' for label in chosen_states_coupling_labels])\n",
    "ax.set_title('{},\\n {} @ {}G,\\n RabiPeriod {}$\\mu s$, SimSteps {},\\n unpolarised, {} states simulated'\n",
    "             .format(MOLECULE_STRING,\n",
    "                     states_string,\n",
    "                     B_MAX_GAUSS*chosen_bi/(B_STEPS-1),\n",
    "                     round(global_pulse_time*1e6),\n",
    "                     T_STEPS,\n",
    "                     chosen_number_of_states))\n",
    "\n",
    "c = ['red','green','blue','purple']\n",
    "ax.plot(times[::resolution]*1e6,probabilities[:,:],c='grey',linewidth=0.5,alpha=0.5);\n",
    "for i,state_subindex in enumerate(chosen_states_coupling_subindices):\n",
    "    ax.plot(times[::resolution]*1e6,probabilities[:,state_subindex],c=c[i],linewidth=0.5);\n",
    "    \n",
    "fig.savefig(f'../images/{MOLECULE_STRING}-2-state-qubit-sim-a.pdf')"
   ]
  }
 ],
 "metadata": {
  "jupytext": {
   "cell_markers": "\"\"\"",
   "formats": "notebooks//ipynb,scripts//py:percent"
  },
  "kernelspec": {
   "display_name": "Python 3 (ipykernel)",
   "language": "python",
   "name": "python3"
  },
  "language_info": {
   "codemirror_mode": {
    "name": "ipython",
    "version": 3
   },
   "file_extension": ".py",
   "mimetype": "text/x-python",
   "name": "python",
   "nbconvert_exporter": "python",
   "pygments_lexer": "ipython3",
   "version": "3.10.8"
  }
 },
 "nbformat": 4,
 "nbformat_minor": 5
}
