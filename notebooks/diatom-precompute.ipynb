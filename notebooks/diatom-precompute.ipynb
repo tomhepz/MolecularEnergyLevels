{
 "cells": [
  {
   "cell_type": "markdown",
   "id": "52110b0b-6aaa-41ae-98cc-90d831240c1a",
   "metadata": {},
   "source": [
    "# This file precomputes important values for use later"
   ]
  },
  {
   "cell_type": "markdown",
   "id": "31f89c1a",
   "metadata": {
    "cell_marker": "\"\"\""
   },
   "source": [
    "# Import appropriate modules"
   ]
  },
  {
   "cell_type": "code",
   "execution_count": 6,
   "id": "da2e57b0",
   "metadata": {},
   "outputs": [],
   "source": [
    "import numpy as np\n",
    "from numpy.linalg import eigh\n",
    "from numpy import save\n",
    "\n",
    "import diatom.hamiltonian as hamiltonian\n",
    "import diatom.calculate as calculate\n",
    "from diatom.constants import Rb87Cs133\n",
    "\n",
    "import scipy.constants"
   ]
  },
  {
   "cell_type": "markdown",
   "id": "f44df710",
   "metadata": {
    "cell_marker": "\"\"\""
   },
   "source": [
    "# Define 'global' Constants"
   ]
  },
  {
   "cell_type": "code",
   "execution_count": 2,
   "id": "0b9a44a1",
   "metadata": {},
   "outputs": [],
   "source": [
    "H_BAR = scipy.constants.hbar\n",
    "\n",
    "I1 = Rb87Cs133[\"I1\"]\n",
    "I2 = Rb87Cs133[\"I2\"]\n",
    "D_0 = Rb87Cs133[\"d0\"]\n",
    "N_MAX=2\n",
    "\n",
    "I = 0 #W/m^2\n",
    "E = 0 #V/m\n",
    "\n",
    "GAUSS = 1e4 # T\n",
    "B_MIN = 0.01 / GAUSS # T\n",
    "B_MAX = 600 / GAUSS # T\n",
    "B_STEPS = 1200\n",
    "\n",
    "B, B_STEP_SIZE = np.linspace(B_MIN, B_MAX, B_STEPS, retstep=True) #T "
   ]
  },
  {
   "cell_type": "markdown",
   "id": "1d8b4d6b",
   "metadata": {
    "cell_marker": "\"\"\""
   },
   "source": [
    "# Build and Diagonalise Hamiltonian for many B"
   ]
  },
  {
   "cell_type": "code",
   "execution_count": 3,
   "id": "a2257c1b-bcb5-4fad-a4c7-8a396acb20e0",
   "metadata": {},
   "outputs": [],
   "source": [
    "H0,Hz,Hdc,Hac = hamiltonian.build_hamiltonians(N_MAX, Rb87Cs133, zeeman=True, Edc=True, ac=True)\n",
    "\n",
    "H = H0[..., None]+\\\n",
    "    Hz[..., None]*B+\\\n",
    "    Hdc[..., None]*E+\\\n",
    "    Hac[..., None]*I\n",
    "H = H.transpose(2,0,1)\n",
    "\n",
    "ENERGIES_UNSORTED, STATES_UNSORTED = eigh(H)\n",
    "N_STATES = len(ENERGIES_UNSORTED[0])"
   ]
  },
  {
   "cell_type": "code",
   "execution_count": 4,
   "id": "310c569a-fde7-4f6b-9545-9ff4633fefa4",
   "metadata": {},
   "outputs": [],
   "source": [
    "# ENERGIES_HALF_SORTED, STATES_HALF_SORTED = calculate.sort_smooth(ENERGIES_UNSORTED,STATES_UNSORTED)\n",
    "ENERGIES, STATES, LABELS = calculate.sort_by_state(ENERGIES_UNSORTED, STATES_UNSORTED, N_MAX, Rb87Cs133)"
   ]
  },
  {
   "cell_type": "code",
   "execution_count": 8,
   "id": "52adda69-9faa-4abf-a6b0-0b23376bf676",
   "metadata": {},
   "outputs": [],
   "source": [
    "MAGNETIC_MOMENTS = calculate.magnetic_moment(STATES, N_MAX, Rb87Cs133)"
   ]
  },
  {
   "cell_type": "code",
   "execution_count": 6,
   "id": "8076cb0d-58eb-44e7-a71c-0f607278197a",
   "metadata": {},
   "outputs": [],
   "source": [
    "dipole_op_zero = calculate.dipole(N_MAX,I1,I2,1,0)\n",
    "dipole_op_minus = calculate.dipole(N_MAX,I1,I2,1,-1)\n",
    "dipole_op_plus = calculate.dipole(N_MAX,I1,I2,1,+1)\n",
    "\n",
    "COUPLINGS_ZERO = STATES[:, :, :].conj().transpose(0, 2, 1) @ (dipole_op_zero @ STATES[:, :, :])\n",
    "COUPLINGS_MINUS = STATES[:, :, :].conj().transpose(0, 2, 1) @ (dipole_op_minus @ STATES[:, :, :])\n",
    "COUPLINGS_PLUS = STATES[:, :, :].conj().transpose(0, 2, 1) @ (dipole_op_plus @ STATES[:, :, :])\n",
    "\n",
    "COUPLINGS = [COUPLINGS_ZERO,COUPLINGS_PLUS,COUPLINGS_MINUS]"
   ]
  },
  {
   "cell_type": "markdown",
   "id": "7dac6bcc-b69a-4cf2-b1fc-babf735f3524",
   "metadata": {},
   "source": [
    "# Save to files"
   ]
  },
  {
   "cell_type": "code",
   "execution_count": 9,
   "id": "5c0a1cf0-218c-45e3-8144-07a8a3edd6aa",
   "metadata": {},
   "outputs": [],
   "source": [
    "save('../precomputed/energies-600G-1200Steps.npy', ENERGIES)\n",
    "save('../precomputed/states-600G-1200Steps.npy', STATES)\n",
    "save('../precomputed/labels-600G-1200Steps.npy', LABELS)\n",
    "save('../precomputed/magnetic-moments-600G-1200Steps.npy', MAGNETIC_MOMENTS)"
   ]
  },
  {
   "cell_type": "code",
   "execution_count": null,
   "id": "aaaee2f4-9bef-4912-a46e-5c8eab67c751",
   "metadata": {},
   "outputs": [],
   "source": []
  }
 ],
 "metadata": {
  "jupytext": {
   "cell_markers": "\"\"\"",
   "formats": "notebooks//ipynb,scripts//py:percent"
  },
  "kernelspec": {
   "display_name": "Python 3 (ipykernel)",
   "language": "python",
   "name": "python3"
  },
  "language_info": {
   "codemirror_mode": {
    "name": "ipython",
    "version": 3
   },
   "file_extension": ".py",
   "mimetype": "text/x-python",
   "name": "python",
   "nbconvert_exporter": "python",
   "pygments_lexer": "ipython3",
   "version": "3.10.8"
  }
 },
 "nbformat": 4,
 "nbformat_minor": 5
}
