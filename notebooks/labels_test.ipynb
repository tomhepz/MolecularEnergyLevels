{
 "cells": [
  {
   "cell_type": "markdown",
   "id": "52110b0b-6aaa-41ae-98cc-90d831240c1a",
   "metadata": {
    "cell_marker": "\"\"\""
   },
   "source": [
    "# This file computes diagonalisation & pre-computes results for use later"
   ]
  },
  {
   "cell_type": "markdown",
   "id": "31f89c1a",
   "metadata": {
    "cell_marker": "\"\"\""
   },
   "source": [
    "## Import appropriate modules"
   ]
  },
  {
   "cell_type": "code",
   "execution_count": 7,
   "id": "da2e57b0",
   "metadata": {},
   "outputs": [],
   "source": [
    "import numpy as np\n",
    "from numpy.linalg import eigh\n",
    "from numpy import save, savez, savez_compressed\n",
    "import ast\n",
    "\n",
    "import diatom.hamiltonian as hamiltonian\n",
    "import diatom.calculate as calculate\n",
    "from diatom.constants import *\n",
    "\n",
    "import scipy.constants\n",
    "from scipy.sparse import csr_matrix\n",
    "from scipy.sparse.linalg import eigsh"
   ]
  },
  {
   "cell_type": "markdown",
   "id": "f44df710",
   "metadata": {
    "cell_marker": "\"\"\""
   },
   "source": [
    "## Defining parameters"
   ]
  },
  {
   "cell_type": "code",
   "execution_count": 121,
   "id": "def7247e-5927-42c4-b34f-604699b05375",
   "metadata": {},
   "outputs": [],
   "source": [
    "MOLECULE_STRING = \"Rb87Cs133\"\n",
    "MOLECULE = Rb87Cs133\n",
    "N_MAX=1\n",
    "PULSE_TIME_US = 500 #μs\n",
    "\n",
    "GAUSS = 1e-4 # T\n",
    "B = np.concatenate([np.arange(0.1,100,0.1),np.arange(100,500,1),np.arange(500,1000,10)]) * GAUSS\n",
    "\n",
    "######\n",
    "\n",
    "B_STEPS = len(B)\n",
    "B_MIN = B[0]\n",
    "B_MAX= B[-1]\n",
    "\n",
    "settings_string = f'{MOLECULE_STRING}NMax{N_MAX}PTime{PULSE_TIME_US}'\n",
    "\n",
    "H_BAR = scipy.constants.hbar\n",
    "\n",
    "I1 = MOLECULE[\"I1\"]\n",
    "I2 = MOLECULE[\"I2\"]\n",
    "I1_D = round(2*MOLECULE[\"I1\"])\n",
    "I2_D = round(2*MOLECULE[\"I2\"])\n",
    "\n",
    "PER_MN = (I1_D+1)*(I2_D+1)\n",
    "N_STATES = PER_MN * (N_MAX+1)**2\n",
    "\n",
    "PULSE_TIME = PULSE_TIME_US * 1e-6 # s"
   ]
  },
  {
   "cell_type": "markdown",
   "id": "1d8b4d6b",
   "metadata": {
    "cell_marker": "\"\"\""
   },
   "source": [
    "## Diagonalise & Calculate "
   ]
  },
  {
   "cell_type": "code",
   "execution_count": 122,
   "id": "96246013-f3d2-453b-abe5-6522982a6439",
   "metadata": {
    "tags": []
   },
   "outputs": [],
   "source": [
    "H0,Hz,Hdc,Hac = hamiltonian.build_hamiltonians(N_MAX, MOLECULE, zeeman=True, Edc=False, ac=False)\n",
    "\n",
    "H = (\n",
    "    +H0[..., None]\n",
    "    +Hz[..., None]*B\n",
    "    # +Hdc[..., None]*E\n",
    "    # +Hac[..., None]*I\n",
    "    )\n",
    "H = H.transpose(2,0,1)\n",
    "# H_SPARSE = csr_matrix(H[0])"
   ]
  },
  {
   "cell_type": "code",
   "execution_count": 33,
   "id": "3d1b2157-3cde-482e-af6b-20e95442d4eb",
   "metadata": {},
   "outputs": [
    {
     "name": "stdout",
     "output_type": "stream",
     "text": [
      "CPU times: user 4 µs, sys: 2 µs, total: 6 µs\n",
      "Wall time: 12.9 µs\n"
     ]
    }
   ],
   "source": [
    "%%time\n",
    "# y=eigsh(H_SPARSE,k=N_STATES-2)"
   ]
  },
  {
   "cell_type": "code",
   "execution_count": 38,
   "id": "4dc90489-088f-4818-b02f-01326e480e63",
   "metadata": {},
   "outputs": [
    {
     "name": "stdout",
     "output_type": "stream",
     "text": [
      "1449\n",
      "CPU times: user 2min 28s, sys: 8.61 s, total: 2min 36s\n",
      "Wall time: 21.1 s\n"
     ]
    }
   ],
   "source": [
    "%%time\n",
    "x=eigh(H[0:200])\n",
    "print(B_STEPS)"
   ]
  },
  {
   "cell_type": "code",
   "execution_count": 148,
   "id": "9210a2de-4279-4413-8fec-04ce1c920926",
   "metadata": {},
   "outputs": [],
   "source": [
    "# %%time\n",
    "ENERGIES_UNSORTED, STATES_UNSORTED = eigh(H)"
   ]
  },
  {
   "cell_type": "code",
   "execution_count": 143,
   "id": "5c698a65-f41c-4a18-8288-ecc12a25ca92",
   "metadata": {},
   "outputs": [],
   "source": [
    "ENERGIES_HALF_SORTED, STATES_HALF_SORTED = calculate.sort_smooth(ENERGIES_UNSORTED,STATES_UNSORTED)"
   ]
  },
  {
   "cell_type": "code",
   "execution_count": 156,
   "id": "2b9cf104-93e5-4c30-913f-374d4aeb654f",
   "metadata": {},
   "outputs": [],
   "source": [
    "ENERGIES, STATES, labels_d = calculate.sort_by_state(ENERGIES_HALF_SORTED, STATES_HALF_SORTED, N_MAX, MOLECULE)\n",
    "# ENERGIES, STATES, labels_d = calculate.sort_by_state(ENERGIES_UNSORTED, STATES_UNSORTED, N_MAX, MOLECULE)"
   ]
  },
  {
   "cell_type": "code",
   "execution_count": 157,
   "id": "7d59b98b-bb99-4954-b857-0c73caeec806",
   "metadata": {},
   "outputs": [],
   "source": [
    "labels_d[:,1] *= 2 # Double MF to guarantee int\n",
    "LABELS_D=(np.rint(labels_d)).astype(\"int\")"
   ]
  },
  {
   "cell_type": "code",
   "execution_count": 158,
   "id": "c1b3f38c-efb7-4a9b-bbf2-acd69bfa15d0",
   "metadata": {},
   "outputs": [
    {
     "data": {
      "text/plain": [
       "array([[  0,   4,   0],\n",
       "       [  0,   2,   0],\n",
       "       [  0,   0,   0],\n",
       "       [  0,  -2,   0],\n",
       "       [  0,  -4,   0],\n",
       "       [  0,   6,   0],\n",
       "       [  0,   4,   1],\n",
       "       [  0,   2,   1],\n",
       "       [  0,   0,   1],\n",
       "       [  0,  -2,   1],\n",
       "       [  0,  -4,   1],\n",
       "       [  0,  -6,   0],\n",
       "       [  0,   8,   0],\n",
       "       [  0,   6,   1],\n",
       "       [  0,   4,   2],\n",
       "       [  0,   2,   2],\n",
       "       [  0,   0,   2],\n",
       "       [  0,  -2,   2],\n",
       "       [  0,  -4,   2],\n",
       "       [  0,  -6,   1],\n",
       "       [  0,  -8,   0],\n",
       "       [  0,  10,   0],\n",
       "       [  0,   8,   1],\n",
       "       [  0,   6,   2],\n",
       "       [  0,   4,   3],\n",
       "       [  0,   2,   3],\n",
       "       [  0,   0,   3],\n",
       "       [  0,  -2,   3],\n",
       "       [  0,  -4,   3],\n",
       "       [  0,  -6,   2],\n",
       "       [  0,  -8,   1],\n",
       "       [  0, -10,   0],\n",
       "       [  1,   4,   0],\n",
       "       [  1,   2,   0],\n",
       "       [  1,   0,   0],\n",
       "       [  1,  -2,   0],\n",
       "       [  1,  -4,   0],\n",
       "       [  1,   6,   0],\n",
       "       [  1,   4,   1],\n",
       "       [  1,   2,   1],\n",
       "       [  1,   0,   1],\n",
       "       [  1,  -2,   1],\n",
       "       [  1,  -4,   1],\n",
       "       [  1,  -6,   0],\n",
       "       [  1,   8,   0],\n",
       "       [  1,   6,   1],\n",
       "       [  1,   4,   2],\n",
       "       [  1,   2,   2],\n",
       "       [  1,   0,   2],\n",
       "       [  1,  -2,   2],\n",
       "       [  1,  -4,   2],\n",
       "       [  1,  -6,   1],\n",
       "       [  1,  -8,   0],\n",
       "       [  1,  10,   0],\n",
       "       [  1,   8,   1],\n",
       "       [  1,   6,   2],\n",
       "       [  1,   4,   3],\n",
       "       [  1,   2,   3],\n",
       "       [  1,   0,   3],\n",
       "       [  1,  -2,   3],\n",
       "       [  1,  -4,   3],\n",
       "       [  1,  -6,   2],\n",
       "       [  1,  -8,   1],\n",
       "       [  1, -10,   0],\n",
       "       [  1,   2,   4],\n",
       "       [  1,   0,   4],\n",
       "       [  1,  -2,   4],\n",
       "       [  1,   4,   4],\n",
       "       [  1,   2,   5],\n",
       "       [  1,   0,   5],\n",
       "       [  1,  -2,   5],\n",
       "       [  1,  -4,   4],\n",
       "       [  1,   6,   3],\n",
       "       [  1,   4,   5],\n",
       "       [  1,   2,   6],\n",
       "       [  1,   0,   6],\n",
       "       [  1,  -2,   6],\n",
       "       [  1,  -4,   5],\n",
       "       [  1,  -6,   3],\n",
       "       [  1,   8,   2],\n",
       "       [  1,   6,   4],\n",
       "       [  1,   4,   6],\n",
       "       [  1,   2,   7],\n",
       "       [  1,   0,   7],\n",
       "       [  1,  -2,   7],\n",
       "       [  1,  -4,   6],\n",
       "       [  1,  -6,   4],\n",
       "       [  1,  -8,   2],\n",
       "       [  1,  10,   1],\n",
       "       [  1,   8,   3],\n",
       "       [  1,   6,   5],\n",
       "       [  1,   4,   7],\n",
       "       [  1,   2,   8],\n",
       "       [  1,   0,   8],\n",
       "       [  1,  -2,   8],\n",
       "       [  1,  -4,   7],\n",
       "       [  1,  -6,   5],\n",
       "       [  1,  -8,   3],\n",
       "       [  1, -10,   1],\n",
       "       [  1,  12,   0],\n",
       "       [  1,  10,   2],\n",
       "       [  1,   8,   4],\n",
       "       [  1,   6,   6],\n",
       "       [  1,   4,   8],\n",
       "       [  1,   2,   9],\n",
       "       [  1,   0,   9],\n",
       "       [  1,  -2,   9],\n",
       "       [  1,  -4,   8],\n",
       "       [  1,  -6,   6],\n",
       "       [  1,  -8,   4],\n",
       "       [  1, -10,   2],\n",
       "       [  1, -12,   0],\n",
       "       [  1,   6,   7],\n",
       "       [  1,   4,   9],\n",
       "       [  1,   2,  10],\n",
       "       [  1,   0,  10],\n",
       "       [  1,  -2,  10],\n",
       "       [  1,  -4,   9],\n",
       "       [  1,  -6,   7],\n",
       "       [  1,   8,   5],\n",
       "       [  1,   6,   8],\n",
       "       [  1,   4,  10],\n",
       "       [  1,   2,  11],\n",
       "       [  1,   0,  11],\n",
       "       [  1,  -2,  11],\n",
       "       [  1,  -4,  10],\n",
       "       [  1,  -6,   8],\n",
       "       [  1,  -8,   5]])"
      ]
     },
     "execution_count": 158,
     "metadata": {},
     "output_type": "execute_result"
    }
   ],
   "source": [
    "LABELS_D"
   ]
  },
  {
   "cell_type": "code",
   "execution_count": 127,
   "id": "5635283f-7ad4-417f-abc4-7adfd76641d3",
   "metadata": {},
   "outputs": [],
   "source": [
    "UNCOUPLED_LABELS_D = []\n",
    "\n",
    "for n in range(0, N_MAX + 1):\n",
    "    for mn in range(n,-(n+1),-1):\n",
    "        for mi1d in range(I1_D,-I1_D-1,-2):\n",
    "            for mi2d in range(I2_D,-I2_D-1,-2):\n",
    "                UNCOUPLED_LABELS_D.append((n,mn,mi1d,mi2d))\n",
    "\n",
    "UNCOUPLED_LABELS_D = (np.rint(UNCOUPLED_LABELS_D)).astype(\"int\")"
   ]
  },
  {
   "cell_type": "code",
   "execution_count": 128,
   "id": "3a4ef421-bd69-41c3-9f3d-d3b5e4fe2f05",
   "metadata": {},
   "outputs": [],
   "source": [
    "MAGNETIC_MOMENTS = np.einsum('bji,jk,bki->bi', STATES.conj(), -Hz, STATES, optimize='optimal')"
   ]
  },
  {
   "cell_type": "code",
   "execution_count": 129,
   "id": "6e61255e-eff8-48c7-8262-2edd51a0272e",
   "metadata": {},
   "outputs": [],
   "source": [
    "dipole_op_zero = calculate.dipole(N_MAX,I1,I2,1,0)\n",
    "dipole_op_minus = calculate.dipole(N_MAX,I1,I2,1,-1)\n",
    "dipole_op_plus = calculate.dipole(N_MAX,I1,I2,1,+1)"
   ]
  },
  {
   "cell_type": "markdown",
   "id": "b139c9b8-95d9-45be-9a30-b4c6579421a7",
   "metadata": {
    "cell_marker": "\"\"\""
   },
   "source": [
    "# Helper Functions"
   ]
  },
  {
   "cell_type": "code",
   "execution_count": 130,
   "id": "97277313-298b-40e9-b73b-8b24bd38b557",
   "metadata": {},
   "outputs": [],
   "source": [
    "def label_to_state_no(N,MF_D,k):\n",
    "    return np.where((LABELS_D[:, 0] == N) & (LABELS_D[:, 1] == MF_D) & (LABELS_D[:, 2] == k))[0][0]\n",
    "\n",
    "def state_no_to_uncoupled_label(state_no):\n",
    "    return UNCOUPLED_LABELS_D[state_no]"
   ]
  },
  {
   "cell_type": "code",
   "execution_count": 131,
   "id": "5da43392-ebec-4680-b3ce-753d0b352257",
   "metadata": {},
   "outputs": [],
   "source": [
    "def label_d_to_string(label_d):\n",
    "    n = label_d[0]\n",
    "    mf_d = label_d[1]\n",
    "    mf_frac = mf_d%2\n",
    "    i = label_d[2]\n",
    "    if mf_frac == 0:\n",
    "        return f\"({n},{mf_d//2},{i})\"\n",
    "    else:\n",
    "        mf_whole= (mf_d - np.sign(mf_d))//2\n",
    "        return f\"({n},{mf_whole}.5,{i})\"\n",
    "\n",
    "def label_d_to_latex_string(label_d):\n",
    "    n = label_d[0]\n",
    "    mf_d = label_d[1]\n",
    "    mf_frac = mf_d%2\n",
    "    i = label_d[2]\n",
    "    if mf_frac == 0:\n",
    "        return r'|{},{}\\rangle_{{{}}}'.format(n,mf_d//2,i)\n",
    "    else:\n",
    "        mf_whole= (mf_d - np.sign(mf_d))//2\n",
    "        return r'|{},{}.5\\rangle_{{{}}}'.format(n,mf_whole,i)"
   ]
  },
  {
   "cell_type": "code",
   "execution_count": 132,
   "id": "c8cfef86-b55e-46fb-b83a-9b6293764609",
   "metadata": {},
   "outputs": [],
   "source": [
    "def label_degeneracy(N,MF_D):\n",
    "    # Want number of ways of having\n",
    "    # MF = MN + (M_I1 + M_I2) # NP-Hard Problem SSP (Subset Sum)\n",
    "    d=0\n",
    "    for MN in range(-N,N+1):\n",
    "        for M_I1_D in range(-I1_D,I1_D+1,2):\n",
    "            for M_I2_D in range(-I2_D,I2_D+1,2):\n",
    "                if 2*MN+M_I1_D+M_I2_D == MF_D:\n",
    "                    d+=1\n",
    "    return d"
   ]
  },
  {
   "cell_type": "code",
   "execution_count": 133,
   "id": "4d3ed00b-06ab-4e98-9653-7341a2533ea9",
   "metadata": {},
   "outputs": [],
   "source": [
    "def reachable_above_from(N,MF_D):\n",
    "    sigma_plus_reachable = [(N+1,MF_D-2,i) for i in range(label_degeneracy(N+1,MF_D-2))]\n",
    "    pi_reachable = [(N+1,MF_D,i) for i in range(label_degeneracy(N+1,MF_D))]\n",
    "    sigma_minus_reachable = [(N+1,MF_D+2,i) for i in range(label_degeneracy(N+1,MF_D+2))]\n",
    "    return (sigma_plus_reachable + pi_reachable + sigma_minus_reachable)\n",
    "\n",
    "def twice_average_fidelity(k,g):\n",
    "    return ((1 + g**2)**2 + 8*k**2*(-1 + 2*g**2) + 16*k**4)/((1 + g**2)**3 + (-8 + 20*g**2 + g**4)*k**2 + 16*k**4)\n",
    "\n",
    "def maximum_fidelity(k,g):\n",
    "    phi = np.arccos((k*(18-9*g**2-8*k**2))/(3+3*g**2+4*k**2)**(3/2))/3\n",
    "    denominator = 54*((1+g**2)**3+(-8+20*g**2+g**4)*k**2+16*k**4)\n",
    "    numerator = (\n",
    "                 36*(g**4+(1-4*k**2)**2+2*g**2*(1+8*k**2))\n",
    "               + 32*k    *(3+3*g**2+4*k**2)**(3/2) *np.cos(phi)\n",
    "               - 64*k**2 *(3+3*g**2+4*k**2)        *np.cos(2*phi) \n",
    "               -  4      *(3+3*g**2+4*k**2)**2     *np.cos(4*phi)\n",
    "                )\n",
    "    return numerator/denominator\n",
    "\n",
    "def fidelity(ts,d=8):\n",
    "    return -np.log10(1-ts+10**(-d))"
   ]
  },
  {
   "cell_type": "code",
   "execution_count": 134,
   "id": "d76ad06f-3cc2-43a6-8d9c-af1b8a8b3a44",
   "metadata": {},
   "outputs": [],
   "source": [
    "def find_nearest(array,value):\n",
    "    idx = np.searchsorted(array, value, side=\"left\")\n",
    "    if idx > 0 and (idx == len(array) or math.fabs(value - array[idx-1]) < math.fabs(value - array[idx])):\n",
    "        return idx-1\n",
    "    else:\n",
    "        return idx\n",
    "\n",
    "def field_to_bi(gauss):\n",
    "    return find_nearest(B,gauss*GAUSS)"
   ]
  },
  {
   "cell_type": "code",
   "execution_count": 135,
   "id": "7eaf9088-9277-4360-9e5c-3a9d1f11497f",
   "metadata": {},
   "outputs": [],
   "source": [
    "def fid_to_string(fid):\n",
    "    return f\"{fid:.4f}({fidelity(fid,d=9):.1f})\""
   ]
  },
  {
   "cell_type": "markdown",
   "id": "5c56ad7f-3254-4839-b197-483f8191f532",
   "metadata": {
    "cell_marker": "\"\"\""
   },
   "source": [
    "# Generate labels"
   ]
  },
  {
   "cell_type": "code",
   "execution_count": 136,
   "id": "0e31ff73-d152-41f7-bc02-5896028d1a8f",
   "metadata": {},
   "outputs": [
    {
     "data": {
      "text/plain": [
       "21"
      ]
     },
     "execution_count": 136,
     "metadata": {},
     "output_type": "execute_result"
    }
   ],
   "source": [
    "generated_labels = []\n",
    "state_jump_list = []\n",
    "n=0\n",
    "for N in range(N_MAX+1):\n",
    "    F_D = 2*N + I1_D + I2_D\n",
    "    sub_jump_list = []\n",
    "    for MF_D in range(-F_D,F_D+1,2):\n",
    "        sub_jump_list.append(n)\n",
    "        for d in range(label_degeneracy(N,MF_D)):\n",
    "            generated_labels.append((N,MF_D,d))\n",
    "            n+=1\n",
    "    state_jump_list.append(sub_jump_list)\n",
    "            \n",
    "        \n",
    "def label_d_to_node_index(N,MF_D,d):\n",
    "    return state_jump_list[N][(2*N + I1_D + I2_D + MF_D)//2]+d\n",
    "            \n",
    "label_d_to_node_index(0,2,3)"
   ]
  },
  {
   "cell_type": "code",
   "execution_count": 137,
   "id": "b18c2851-6ac3-4de5-bffc-e5a614571e3c",
   "metadata": {},
   "outputs": [],
   "source": [
    "generated_edges = []\n",
    "edge_jump_list = []\n",
    "n=0\n",
    "for N,MF_D,d in generated_labels:\n",
    "    sub_jump_list = []\n",
    "    sub_jump_list.append(len(generated_edges))\n",
    "    if N>0:\n",
    "        down_F_D = 2*(N-1) + I1_D + I2_D\n",
    "    # add P=0\n",
    "    if N<N_MAX:\n",
    "        generated_edges += [(N,MF_D,d,N+1,MF_D,i) for i in range(label_degeneracy(N+1,MF_D))]\n",
    "    if N>0:\n",
    "        generated_edges += [(N,MF_D,d,N-1,MF_D,i) for i in range(label_degeneracy(N-1,MF_D))]\n",
    "    sub_jump_list.append(len(generated_edges))\n",
    "    # add P=1\n",
    "    if N<N_MAX:\n",
    "        generated_edges += [(N,MF_D,d,N+1,MF_D-2,i) for i in range(label_degeneracy(N+1,MF_D-2))]\n",
    "    if N>0 and MF_D+2 <= down_F_D:\n",
    "        generated_edges += [(N,MF_D,d,N-1,MF_D+2,i) for i in range(label_degeneracy(N-1,MF_D+2))]\n",
    "    sub_jump_list.append(len(generated_edges))\n",
    "    # add P=-1\n",
    "    if N<N_MAX:\n",
    "        generated_edges += [(N,MF_D,d,N+1,MF_D+2,i) for i in range(label_degeneracy(N+1,MF_D+2))]\n",
    "    if N>0 and MF_D-2 >= -down_F_D:\n",
    "        generated_edges += [(N,MF_D,d,N-1,MF_D-2,i) for i in range(label_degeneracy(N-1,MF_D-2))]\n",
    "    sub_jump_list.append(len(generated_edges))\n",
    "    edge_jump_list.append(sub_jump_list)\n",
    "    \n",
    "def label_d_to_edge_indices(N,MF_D,d): # Returns the start indices of P=0,P=1,P=2, and the next edge\n",
    "    return edge_jump_list[label_d_to_node_index(N,MF_D,d)]\n"
   ]
  },
  {
   "cell_type": "code",
   "execution_count": 58,
   "id": "aabee603-48c4-40b7-9774-b79a711b3e8a",
   "metadata": {},
   "outputs": [],
   "source": [
    "COUPLINGS_ZERO = STATES[:, :, :].conj().transpose(0, 2, 1) @ dipole_op_zero @ STATES[:, :, :]\n",
    "COUPLINGS_MINUS = STATES[:, :, :].conj().transpose(0, 2, 1) @ dipole_op_minus @ STATES[:, :, :]\n",
    "COUPLINGS_PLUS = STATES[:, :, :].conj().transpose(0, 2, 1) @ dipole_op_plus @ STATES[:, :, :]\n",
    "COUPLINGS_UNPOLARISED = COUPLINGS_ZERO + COUPLINGS_MINUS + COUPLINGS_PLUS"
   ]
  },
  {
   "cell_type": "code",
   "execution_count": 94,
   "id": "c0e49654-ac9d-4e6c-aede-7bc455b63e30",
   "metadata": {},
   "outputs": [
    {
     "data": {
      "text/plain": [
       "(29300, 1449)"
      ]
     },
     "execution_count": 94,
     "metadata": {},
     "output_type": "execute_result"
    }
   ],
   "source": [
    "COUPLINGS_SPARSE = np.zeros((len(generated_edges),B_STEPS),dtype=np.double)\n",
    "COUPLINGS_SPARSE.shape"
   ]
  },
  {
   "cell_type": "code",
   "execution_count": 95,
   "id": "0c445f78-d7c4-4fbf-a9c6-53d962ffe9bf",
   "metadata": {},
   "outputs": [
    {
     "name": "stderr",
     "output_type": "stream",
     "text": [
      "  0%|                                                                                                                                                                                                         | 0/512 [00:00<?, ?it/s]/var/folders/lt/2lfqhmyn1n9bbwg1sqf3zzwc0000gn/T/ipykernel_48443/3511810009.py:11: ComplexWarning: Casting complex values to real discards the imaginary part\n",
      "  COUPLINGS_SPARSE[edge_indices[0]:edge_indices[1],:] = COUPLINGS_ZERO[:,from_label_index,pol_zero_needed_to_indices].T#np.einsum('bi,ij,bnj->nb',STATES[:, from_label_index, :].conj(), dipole_op_zero, STATES[:, pol_zero_needed_to_indices, :])\n",
      "100%|██████████████████████████████████████████████████████████████████████████████████████████████████████████████████████████████████████████████████████████████████████████████████████████████| 512/512 [00:03<00:00, 134.77it/s]\n"
     ]
    }
   ],
   "source": [
    "from tqdm import tqdm\n",
    "\n",
    "for N,MF_D,d in tqdm(LABELS_D):\n",
    "    edge_indices = label_d_to_edge_indices(N,MF_D,d)\n",
    "    from_label_index = label_to_state_no(N,MF_D,d)\n",
    "\n",
    "    label_d_pairs = generated_edges[edge_indices[0]:edge_indices[1]]\n",
    "    if not label_d_pairs:\n",
    "        continue\n",
    "    pol_zero_needed_to_indices = np.array([label_to_state_no(N,MF,d) for _,_,_,N,MF,d in label_d_pairs])\n",
    "    COUPLINGS_SPARSE[edge_indices[0]:edge_indices[1],:] = COUPLINGS_ZERO[:,from_label_index,pol_zero_needed_to_indices].T#np.einsum('bi,ij,bnj->nb',STATES[:, from_label_index, :].conj(), dipole_op_zero, STATES[:, pol_zero_needed_to_indices, :])"
   ]
  },
  {
   "cell_type": "code",
   "execution_count": 93,
   "id": "33e8956e-8e92-4105-9843-5464899df446",
   "metadata": {
    "tags": []
   },
   "outputs": [
    {
     "data": {
      "text/plain": [
       "(0, 1449)"
      ]
     },
     "execution_count": 93,
     "metadata": {},
     "output_type": "execute_result"
    }
   ],
   "source": [
    "COUPLINGS_SPARSE[edge_indices[0]:edge_indices[1],:].shape"
   ]
  },
  {
   "cell_type": "code",
   "execution_count": 96,
   "id": "204b555d-55a6-40a0-ad8e-6886f69e4c72",
   "metadata": {},
   "outputs": [
    {
     "data": {
      "text/plain": [
       "(29300, 1449)"
      ]
     },
     "execution_count": 96,
     "metadata": {},
     "output_type": "execute_result"
    }
   ],
   "source": [
    "COUPLINGS_SPARSE.shape"
   ]
  },
  {
   "cell_type": "code",
   "execution_count": 138,
   "id": "76e14420-a2b1-43c4-b704-62e37efb1347",
   "metadata": {},
   "outputs": [
    {
     "data": {
      "text/plain": [
       "(128, 3)"
      ]
     },
     "execution_count": 138,
     "metadata": {},
     "output_type": "execute_result"
    }
   ],
   "source": [
    "LABELS_D.shape"
   ]
  },
  {
   "cell_type": "code",
   "execution_count": 91,
   "id": "48553df3-557f-4c58-b678-147348f9d3cb",
   "metadata": {},
   "outputs": [
    {
     "data": {
      "text/plain": [
       "(29277, 29280)"
      ]
     },
     "execution_count": 91,
     "metadata": {},
     "output_type": "execute_result"
    }
   ],
   "source": [
    "edge_indices[0],edge_indices[1]"
   ]
  },
  {
   "cell_type": "code",
   "execution_count": 87,
   "id": "b6f1a50c-a33e-4974-ba5c-764eb9a18615",
   "metadata": {},
   "outputs": [
    {
     "name": "stdout",
     "output_type": "stream",
     "text": [
      "[29299, 29299, 29299, 29300]\n"
     ]
    },
    {
     "data": {
      "text/plain": [
       "[(3, 16, 0, 2, 14, 0)]"
      ]
     },
     "execution_count": 87,
     "metadata": {},
     "output_type": "execute_result"
    }
   ],
   "source": [
    "label_d_to_node_index(N,MF_D,d)\n",
    "\n",
    "print(edge_jump_list[label_d_to_node_index(N,MF_D,d)])\n",
    "generated_edges[29299:29300]"
   ]
  },
  {
   "cell_type": "code",
   "execution_count": 171,
   "id": "a449685c-7121-4996-b114-4afd03a48e30",
   "metadata": {},
   "outputs": [
    {
     "name": "stdout",
     "output_type": "stream",
     "text": [
      "3 2 0\n"
     ]
    },
    {
     "ename": "IndexError",
     "evalue": "index 0 is out of bounds for axis 0 with size 0",
     "output_type": "error",
     "traceback": [
      "\u001b[0;31m---------------------------------------------------------------------------\u001b[0m",
      "\u001b[0;31mIndexError\u001b[0m                                Traceback (most recent call last)",
      "Cell \u001b[0;32mIn [171], line 3\u001b[0m\n\u001b[1;32m      1\u001b[0m \u001b[38;5;28;01mfor\u001b[39;00m _,_,_,N,MF,d \u001b[38;5;129;01min\u001b[39;00m label_d_pairs:\n\u001b[1;32m      2\u001b[0m     \u001b[38;5;28mprint\u001b[39m(N,MF,d)\n\u001b[0;32m----> 3\u001b[0m     \u001b[43mlabel_to_state_no\u001b[49m\u001b[43m(\u001b[49m\u001b[43mN\u001b[49m\u001b[43m,\u001b[49m\u001b[43mMF\u001b[49m\u001b[43m,\u001b[49m\u001b[43md\u001b[49m\u001b[43m)\u001b[49m \n",
      "Cell \u001b[0;32mIn [71], line 2\u001b[0m, in \u001b[0;36mlabel_to_state_no\u001b[0;34m(N, MF_D, k)\u001b[0m\n\u001b[1;32m      1\u001b[0m \u001b[38;5;28;01mdef\u001b[39;00m \u001b[38;5;21mlabel_to_state_no\u001b[39m(N,MF_D,k):\n\u001b[0;32m----> 2\u001b[0m     \u001b[38;5;28;01mreturn\u001b[39;00m \u001b[43mnp\u001b[49m\u001b[38;5;241;43m.\u001b[39;49m\u001b[43mwhere\u001b[49m\u001b[43m(\u001b[49m\u001b[43m(\u001b[49m\u001b[43mLABELS_D\u001b[49m\u001b[43m[\u001b[49m\u001b[43m:\u001b[49m\u001b[43m,\u001b[49m\u001b[43m \u001b[49m\u001b[38;5;241;43m0\u001b[39;49m\u001b[43m]\u001b[49m\u001b[43m \u001b[49m\u001b[38;5;241;43m==\u001b[39;49m\u001b[43m \u001b[49m\u001b[43mN\u001b[49m\u001b[43m)\u001b[49m\u001b[43m \u001b[49m\u001b[38;5;241;43m&\u001b[39;49m\u001b[43m \u001b[49m\u001b[43m(\u001b[49m\u001b[43mLABELS_D\u001b[49m\u001b[43m[\u001b[49m\u001b[43m:\u001b[49m\u001b[43m,\u001b[49m\u001b[43m \u001b[49m\u001b[38;5;241;43m1\u001b[39;49m\u001b[43m]\u001b[49m\u001b[43m \u001b[49m\u001b[38;5;241;43m==\u001b[39;49m\u001b[43m \u001b[49m\u001b[43mMF_D\u001b[49m\u001b[43m)\u001b[49m\u001b[43m \u001b[49m\u001b[38;5;241;43m&\u001b[39;49m\u001b[43m \u001b[49m\u001b[43m(\u001b[49m\u001b[43mLABELS_D\u001b[49m\u001b[43m[\u001b[49m\u001b[43m:\u001b[49m\u001b[43m,\u001b[49m\u001b[43m \u001b[49m\u001b[38;5;241;43m2\u001b[39;49m\u001b[43m]\u001b[49m\u001b[43m \u001b[49m\u001b[38;5;241;43m==\u001b[39;49m\u001b[43m \u001b[49m\u001b[43mk\u001b[49m\u001b[43m)\u001b[49m\u001b[43m)\u001b[49m\u001b[43m[\u001b[49m\u001b[38;5;241;43m0\u001b[39;49m\u001b[43m]\u001b[49m\u001b[43m[\u001b[49m\u001b[38;5;241;43m0\u001b[39;49m\u001b[43m]\u001b[49m\n",
      "\u001b[0;31mIndexError\u001b[0m: index 0 is out of bounds for axis 0 with size 0"
     ]
    }
   ],
   "source": [
    "for _,_,_,N,MF,d in label_d_pairs:\n",
    "    print(N,MF,d)\n",
    "    label_to_state_no(N,MF,d) "
   ]
  },
  {
   "cell_type": "code",
   "execution_count": 101,
   "id": "34d5d7f5-e29b-4f73-b23a-052ba4102d12",
   "metadata": {},
   "outputs": [],
   "source": [
    "edge_indices = label_d_to_edge_indices(0,8,1)\n",
    "test = COUPLINGS_SPARSE[edge_indices[0]:edge_indices[1],:]\n"
   ]
  },
  {
   "cell_type": "code",
   "execution_count": 102,
   "id": "f1467b65-ac77-4934-8f15-e60c6c513f19",
   "metadata": {},
   "outputs": [
    {
     "data": {
      "text/plain": [
       "(6, 1449)"
      ]
     },
     "execution_count": 102,
     "metadata": {},
     "output_type": "execute_result"
    }
   ],
   "source": [
    "test.shape"
   ]
  },
  {
   "cell_type": "code",
   "execution_count": 113,
   "id": "1828426b-4f41-422f-9abe-be1135b15e97",
   "metadata": {},
   "outputs": [
    {
     "data": {
      "text/plain": [
       "(512, 3)"
      ]
     },
     "execution_count": 113,
     "metadata": {},
     "output_type": "execute_result"
    }
   ],
   "source": [
    "labels_d.shape"
   ]
  },
  {
   "cell_type": "code",
   "execution_count": 105,
   "id": "d801e5fc-5709-4405-80c1-5e6531aaf89b",
   "metadata": {},
   "outputs": [
    {
     "data": {
      "text/plain": [
       "(512, 3)"
      ]
     },
     "execution_count": 105,
     "metadata": {},
     "output_type": "execute_result"
    }
   ],
   "source": [
    "np.array(generated_labels).shape"
   ]
  },
  {
   "cell_type": "code",
   "execution_count": 141,
   "id": "cccefa46-f7db-4d85-af64-dbe17c04ceec",
   "metadata": {},
   "outputs": [
    {
     "data": {
      "text/plain": [
       "array([0, 4, 0])"
      ]
     },
     "execution_count": 141,
     "metadata": {},
     "output_type": "execute_result"
    }
   ],
   "source": [
    "LABELS_D[0,:]"
   ]
  },
  {
   "cell_type": "code",
   "execution_count": 140,
   "id": "26867d05-46b1-44f9-9490-18a1d934a018",
   "metadata": {},
   "outputs": [],
   "source": [
    "energy_to_canonical_map = []\n",
    "for label in LABELS_D:\n",
    "    energy_to_canonical_map.append(label_d_to_node_index(*label))\n",
    "energy_to_canonical_map = np.array(energy_to_canonical_map)"
   ]
  },
  {
   "cell_type": "code",
   "execution_count": 159,
   "id": "bb730fc2-e420-4d01-9d4a-81ebcc582172",
   "metadata": {},
   "outputs": [
    {
     "data": {
      "text/plain": [
       "22"
      ]
     },
     "execution_count": 159,
     "metadata": {},
     "output_type": "execute_result"
    }
   ],
   "source": [
    "energy_to_canonical_map[0]"
   ]
  },
  {
   "cell_type": "code",
   "execution_count": 160,
   "id": "ea0a94e4-5af3-43dd-8701-620b24023301",
   "metadata": {},
   "outputs": [
    {
     "data": {
      "text/plain": [
       "(0, 4, 0)"
      ]
     },
     "execution_count": 160,
     "metadata": {},
     "output_type": "execute_result"
    }
   ],
   "source": [
    "generated_labels[22]"
   ]
  },
  {
   "cell_type": "code",
   "execution_count": 161,
   "id": "6199d0db-a9a3-4807-bfe5-707ab7434f1c",
   "metadata": {},
   "outputs": [],
   "source": [
    "ENERGIES_CANONICAL_ORDER = ENERGIES[:,energy_to_canonical_map]"
   ]
  },
  {
   "cell_type": "code",
   "execution_count": 181,
   "id": "eb637fa3-8fab-4166-96cc-15dd5800aef9",
   "metadata": {},
   "outputs": [
    {
     "data": {
      "text/plain": [
       "[<matplotlib.lines.Line2D at 0x1775b3790>,\n",
       " <matplotlib.lines.Line2D at 0x280817d30>,\n",
       " <matplotlib.lines.Line2D at 0x280817a90>,\n",
       " <matplotlib.lines.Line2D at 0x280909ae0>,\n",
       " <matplotlib.lines.Line2D at 0x2809291b0>,\n",
       " <matplotlib.lines.Line2D at 0x2809292a0>,\n",
       " <matplotlib.lines.Line2D at 0x280929390>,\n",
       " <matplotlib.lines.Line2D at 0x280929480>,\n",
       " <matplotlib.lines.Line2D at 0x280928430>,\n",
       " <matplotlib.lines.Line2D at 0x280929540>,\n",
       " <matplotlib.lines.Line2D at 0x1775b38b0>,\n",
       " <matplotlib.lines.Line2D at 0x280929630>,\n",
       " <matplotlib.lines.Line2D at 0x280929720>,\n",
       " <matplotlib.lines.Line2D at 0x2809298d0>,\n",
       " <matplotlib.lines.Line2D at 0x2809299c0>,\n",
       " <matplotlib.lines.Line2D at 0x280929ab0>,\n",
       " <matplotlib.lines.Line2D at 0x280929ba0>,\n",
       " <matplotlib.lines.Line2D at 0x280929c90>,\n",
       " <matplotlib.lines.Line2D at 0x280929d80>,\n",
       " <matplotlib.lines.Line2D at 0x280929e70>,\n",
       " <matplotlib.lines.Line2D at 0x280929f60>,\n",
       " <matplotlib.lines.Line2D at 0x28092a050>,\n",
       " <matplotlib.lines.Line2D at 0x28092a140>,\n",
       " <matplotlib.lines.Line2D at 0x28092a230>,\n",
       " <matplotlib.lines.Line2D at 0x28092a320>,\n",
       " <matplotlib.lines.Line2D at 0x28092a410>,\n",
       " <matplotlib.lines.Line2D at 0x28092a500>,\n",
       " <matplotlib.lines.Line2D at 0x28092a5f0>,\n",
       " <matplotlib.lines.Line2D at 0x28092a6e0>,\n",
       " <matplotlib.lines.Line2D at 0x28092a7d0>,\n",
       " <matplotlib.lines.Line2D at 0x28092a8c0>,\n",
       " <matplotlib.lines.Line2D at 0x28092a9b0>]"
      ]
     },
     "execution_count": 181,
     "metadata": {},
     "output_type": "execute_result"
    },
    {
     "data": {
      "image/png": "[encoded data removed]",
      "text/plain": [
       "<Figure size 640x480 with 1 Axes>"
      ]
     },
     "metadata": {},
     "output_type": "display_data"
    }
   ],
   "source": [
    "import matplotlib.pyplot as plt\n",
    "fig,ax = plt.subplots()\n",
    "\n",
    "ax.plot(B[0:200],ENERGIES_CANONICAL_ORDER[0:200,0:32])"
   ]
  },
  {
   "cell_type": "code",
   "execution_count": null,
   "id": "44012dca-a796-4e20-bf94-f0753b5ab133",
   "metadata": {},
   "outputs": [],
   "source": []
  }
 ],
 "metadata": {
  "jupytext": {
   "cell_markers": "\"\"\"",
   "formats": "notebooks//ipynb,scripts//py:percent"
  },
  "kernelspec": {
   "display_name": "Python 3 (ipykernel)",
   "language": "python",
   "name": "python3"
  },
  "language_info": {
   "codemirror_mode": {
    "name": "ipython",
    "version": 3
   },
   "file_extension": ".py",
   "mimetype": "text/x-python",
   "name": "python",
   "nbconvert_exporter": "python",
   "pygments_lexer": "ipython3",
   "version": "3.10.8"
  },
  "vscode": {
   "interpreter": {
    "hash": "bbd9c84f699e830af4c0af31dc94000b2c777a89cb5d82dcf820c2c6502b2da2"
   }
  }
 },
 "nbformat": 4,
 "nbformat_minor": 5
}
