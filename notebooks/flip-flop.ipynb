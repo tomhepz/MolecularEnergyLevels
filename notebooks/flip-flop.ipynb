{
 "cells": [
  {
   "cell_type": "markdown",
   "id": "569dadbe",
   "metadata": {
    "cell_marker": "\"\"\""
   },
   "source": [
    "# This file computes diagonalisation & pre-computes results for use later"
   ]
  },
  {
   "cell_type": "markdown",
   "id": "a4ca6f6c",
   "metadata": {
    "cell_marker": "\"\"\""
   },
   "source": [
    "## Import appropriate modules"
   ]
  },
  {
   "cell_type": "code",
   "execution_count": null,
   "id": "f0328fd3",
   "metadata": {},
   "outputs": [],
   "source": [
    "import numpy as np\n",
    "from numpy.linalg import eigh\n",
    "from numpy import save, savez, savez_compressed\n",
    "import ast\n",
    "\n",
    "import diatom.hamiltonian as hamiltonian\n",
    "import diatom.calculate as calculate\n",
    "from diatom.constants import *\n",
    "\n",
    "import scipy.constants"
   ]
  }
 ],
 "metadata": {
  "jupytext": {
   "cell_markers": "\"\"\"",
   "formats": "notebooks//ipynb,scripts//py:percent"
  },
  "kernelspec": {
   "display_name": "Python 3 (ipykernel)",
   "language": "python",
   "name": "python3"
  },
  "language_info": {
   "codemirror_mode": {
    "name": "ipython",
    "version": 3
   },
   "file_extension": ".py",
   "mimetype": "text/x-python",
   "name": "python",
   "nbconvert_exporter": "python",
   "pygments_lexer": "ipython3",
   "version": "3.10.8"
  }
 },
 "nbformat": 4,
 "nbformat_minor": 5
}
