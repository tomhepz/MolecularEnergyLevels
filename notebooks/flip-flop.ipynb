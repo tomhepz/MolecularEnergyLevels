{
 "cells": [
  {
   "cell_type": "markdown",
   "id": "569dadbe",
   "metadata": {
    "cell_marker": "\"\"\""
   },
   "source": [
    "# This file computes diagonalisation & pre-computes results for use later"
   ]
  },
  {
   "cell_type": "markdown",
   "id": "a4ca6f6c",
   "metadata": {
    "cell_marker": "\"\"\""
   },
   "source": [
    "## Import appropriate modules"
   ]
  },
  {
   "cell_type": "code",
   "execution_count": 1,
   "id": "f0328fd3",
   "metadata": {},
   "outputs": [],
   "source": [
    "import numpy as np\n",
    "from numpy.linalg import eigh\n",
    "from numpy import save, savez, savez_compressed\n",
    "\n",
    "import diatom.hamiltonian as hamiltonian\n",
    "import diatom.calculate as calculate\n",
    "from diatom.constants import *\n",
    "\n",
    "from matplotlib.pyplot import spy\n",
    "\n",
    "import scipy.constants"
   ]
  },
  {
   "cell_type": "code",
   "execution_count": 2,
   "id": "f4be5ed9-115b-4d04-a825-677c2f1ecf7d",
   "metadata": {},
   "outputs": [],
   "source": [
    "import matplotlib.pyplot as plt\n",
    "# plt.rcParams[\"text.usetex\"] = True\n",
    "plt.rcParams[\"font.family\"] = 'sans-serif'\n",
    "plt.rcParams[\"figure.autolayout\"] = True\n",
    "plt.rcParams['figure.figsize'] = (4, 3.5)\n",
    "plt.rcParams['figure.dpi'] = 200\n",
    "# plt.rc('text.latex', preamble=r'\\usepackage[T1]{fontenc}\\usepackage{cmbright}\\usepackage{mathtools}')\n",
    "\n",
    "%matplotlib widget\n",
    "%config InlineBackend.figure_format = 'retina'"
   ]
  },
  {
   "cell_type": "markdown",
   "id": "9798f97c",
   "metadata": {
    "cell_marker": "\"\"\""
   },
   "source": [
    "## Defining parameters"
   ]
  },
  {
   "cell_type": "code",
   "execution_count": 3,
   "id": "4e17a073",
   "metadata": {},
   "outputs": [],
   "source": [
    "MOLECULE_STRING = \"Na23Cs133\"\n",
    "MOLECULE = Na23Cs133\n",
    "MOLECULE[\"a0\"] = Rb87Cs133[\"a0\"]\n",
    "MOLECULE[\"a2\"] = Rb87Cs133[\"a2\"]\n",
    "N_MAX = 1\n",
    "\n",
    "B = np.array([1 * 1e-4]) # T\n",
    "# I = 129 #W/m^2\n",
    "r = 2.9 * 1e-6 # m\n",
    "\n",
    "H_BAR = scipy.constants.hbar\n",
    "\n",
    "I1 = MOLECULE[\"I1\"]\n",
    "I2 = MOLECULE[\"I2\"]\n",
    "I1_D = round(2*MOLECULE[\"I1\"])\n",
    "I2_D = round(2*MOLECULE[\"I2\"])\n",
    "D_0 = MOLECULE[\"d0\"]\n",
    "\n",
    "PER_MN = (I1_D+1)*(I2_D+1)\n",
    "N_STATES = PER_MN * (N_MAX+1)**2"
   ]
  },
  {
   "cell_type": "markdown",
   "id": "b4eb8a15",
   "metadata": {
    "cell_marker": "\"\"\""
   },
   "source": [
    "## Diagonalise & Calculate "
   ]
  },
  {
   "cell_type": "code",
   "execution_count": 4,
   "id": "e945c7ee",
   "metadata": {},
   "outputs": [],
   "source": [
    "H0,Hz,Hdc,Hac = hamiltonian.build_hamiltonians(N_MAX, MOLECULE, zeeman=True, Edc=False, ac=True)\n",
    "\n",
    "H = (\n",
    "    +H0[...,None]\n",
    "    +Hz[...,None]*B\n",
    "    # +Hac[...,None]*I\n",
    "    )\n",
    "H=H.transpose(2,0,1)"
   ]
  },
  {
   "cell_type": "code",
   "execution_count": 5,
   "id": "60c75b33",
   "metadata": {},
   "outputs": [],
   "source": [
    "ENERGIES_RAW, STATES_RAW = eigh(H)"
   ]
  },
  {
   "cell_type": "code",
   "execution_count": 6,
   "id": "f9bead11-7859-4944-8954-c9fe56481389",
   "metadata": {},
   "outputs": [
    {
     "data": {
      "text/plain": [
       "(1, 128, 128)"
      ]
     },
     "execution_count": 6,
     "metadata": {},
     "output_type": "execute_result"
    }
   ],
   "source": [
    "STATES_RAW.shape"
   ]
  },
  {
   "cell_type": "code",
   "execution_count": 7,
   "id": "8310b56f-aeea-4c81-84bc-85e488f27896",
   "metadata": {},
   "outputs": [],
   "source": [
    "ENERGIES, STATES, labels_d = calculate.sort_by_state(ENERGIES_RAW, STATES_RAW, N_MAX, MOLECULE)"
   ]
  },
  {
   "cell_type": "code",
   "execution_count": 8,
   "id": "825e9903-ec40-4708-8222-720fc00c906b",
   "metadata": {},
   "outputs": [],
   "source": [
    "def label_to_state_no(N,MF_D,k):\n",
    "    return np.where((LABELS_D[:, 0] == N) & (LABELS_D[:, 1] == MF_D) & (LABELS_D[:, 2] == k))[0][0]\n",
    "\n",
    "def state_no_to_uncoupled_label(state_no):\n",
    "    return UNCOUPLED_LABELS_D[state_no]"
   ]
  },
  {
   "cell_type": "code",
   "execution_count": 9,
   "id": "680a8e61-771d-4704-93ad-74d2b5e68510",
   "metadata": {},
   "outputs": [],
   "source": [
    "def label_degeneracy(N,MF_D):\n",
    "    # Want number of ways of having\n",
    "    # MF = MN + (M_I1 + M_I2) # NP-Hard Problem SSP (Subset Sum)\n",
    "    d=0\n",
    "    for MN in range(-N,N+1):\n",
    "        for M_I1_D in range(-I1_D,I1_D+1,2):\n",
    "            for M_I2_D in range(-I2_D,I2_D+1,2):\n",
    "                if 2*MN+M_I1_D+M_I2_D == MF_D:\n",
    "                    d+=1\n",
    "    return d"
   ]
  },
  {
   "cell_type": "code",
   "execution_count": 10,
   "id": "473ede1e-ca35-4834-ae53-844be024e66c",
   "metadata": {},
   "outputs": [],
   "source": [
    "labels_d[:,1] *= 2 # Double MF to guarantee int\n",
    "LABELS_D=(np.rint(labels_d)).astype(\"int\")"
   ]
  },
  {
   "cell_type": "code",
   "execution_count": 11,
   "id": "8957eb0f",
   "metadata": {},
   "outputs": [],
   "source": [
    "dipole_op_zero = calculate.dipole(N_MAX,I1,I2,1,0)\n",
    "dipole_op_minus = calculate.dipole(N_MAX,I1,I2,1,-1)\n",
    "dipole_op_plus = calculate.dipole(N_MAX,I1,I2,1,+1)"
   ]
  },
  {
   "cell_type": "markdown",
   "id": "97f77087",
   "metadata": {
    "cell_marker": "\"\"\""
   },
   "source": [
    "# Form Tensor Prod'd Matrices"
   ]
  },
  {
   "cell_type": "code",
   "execution_count": 12,
   "id": "73a3e25a",
   "metadata": {},
   "outputs": [],
   "source": [
    "# Tensor product hell time\n",
    "di0dj0 = np.kron(dipole_op_zero, dipole_op_zero)\n",
    "dipdjm = np.kron(dipole_op_plus, dipole_op_minus)\n",
    "dimdjp = np.kron(dipole_op_minus, dipole_op_plus)\n",
    "dipdjp = np.kron(dipole_op_plus, dipole_op_plus)\n",
    "dimdjm = np.kron(dipole_op_minus, dipole_op_minus)"
   ]
  },
  {
   "cell_type": "code",
   "execution_count": 15,
   "id": "7602ecb9-fd74-46f7-87b0-20da3e71a9f9",
   "metadata": {},
   "outputs": [
    {
     "name": "stdout",
     "output_type": "stream",
     "text": [
      "True\n"
     ]
    }
   ],
   "source": [
    "a = np.random.rand(3,3) * (7.2342+3.252j)\n",
    "b = np.random.rand(3,3) * (1.23-4.4341j)\n",
    "i = np.identity(3)\n",
    "\n",
    "test1 = np.kron(a,i) @ np.kron(i,b)\n",
    "test2 = np.kron(a,b)\n",
    "\n",
    "print(np.allclose(test1,test2))"
   ]
  },
  {
   "cell_type": "code",
   "execution_count": 13,
   "id": "f15e31e4",
   "metadata": {},
   "outputs": [],
   "source": [
    "# V_dd = (D_0**2/(4*np.pi*scipy.constants.epsilon_0)) * (1/r**3) * ((di0dj0+(dipdjm+dimdjp)/2)-(3/2)*(dipdjp+dimdjm))\n",
    "V_dd = (D_0**2/(4*np.pi*scipy.constants.epsilon_0)) * (1/r**3) * (2*di0dj0 + (dimdjp + dipdjm))"
   ]
  },
  {
   "cell_type": "code",
   "execution_count": 14,
   "id": "1db1c282",
   "metadata": {},
   "outputs": [
    {
     "name": "stdout",
     "output_type": "stream",
     "text": [
      "16384\n"
     ]
    }
   ],
   "source": [
    "N_PAIR_STATES = (32+96)**2\n",
    "print(N_PAIR_STATES)\n",
    "COUPLED_LABELS_D = []\n",
    "COUPLED_LABEL_ENERGY = []\n",
    "\n",
    "for N1 in range(0, N_MAX + 1):\n",
    "    F1_D = 2*N1 + I1_D + I2_D\n",
    "    for MF1_D in range(-F1_D,F1_D+1,2):\n",
    "        for d1 in range(label_degeneracy(N1,MF1_D)):\n",
    "            for N2 in range(0, N_MAX + 1):\n",
    "                F2_D = 2*N2 + I1_D + I2_D\n",
    "                for MF2_D in range(-F2_D,F2_D+1,2):\n",
    "                    for d2 in range(label_degeneracy(N2,MF2_D)):\n",
    "                        COUPLED_LABELS_D.append((N1,MF1_D,d1,N2,MF2_D,d2))\n",
    "                        COUPLED_LABEL_ENERGY.append((ENERGIES[0,label_to_state_no(N1,MF1_D,d1)]+ENERGIES[0,label_to_state_no(N2,MF2_D,d2)]).real)\n",
    "\n",
    "COUPLED_LABELS_D = np.array(COUPLED_LABELS_D)\n",
    "COUPLED_LABEL_ENERGY = np.array(COUPLED_LABEL_ENERGY)"
   ]
  },
  {
   "cell_type": "code",
   "execution_count": 15,
   "id": "17ef041f",
   "metadata": {},
   "outputs": [
    {
     "name": "stdout",
     "output_type": "stream",
     "text": [
      "4094 16159\n"
     ]
    }
   ],
   "source": [
    "state_index_a = np.where((COUPLED_LABELS_D[:, 0] == 0) \n",
    "               & (COUPLED_LABELS_D[:, 1] == 10)\n",
    "               & (COUPLED_LABELS_D[:, 2] == 0)\n",
    "               & (COUPLED_LABELS_D[:, 3] == 1)\n",
    "               & (COUPLED_LABELS_D[:, 4] == 10)\n",
    "               & (COUPLED_LABELS_D[:, 5] == 2))[0][0]\n",
    "state_index_b = np.where((COUPLED_LABELS_D[:, 0] == 1) \n",
    "               & (COUPLED_LABELS_D[:, 1] == 10)\n",
    "               & (COUPLED_LABELS_D[:, 2] == 2)\n",
    "               & (COUPLED_LABELS_D[:, 3] == 0)\n",
    "               & (COUPLED_LABELS_D[:, 4] == 10)\n",
    "               & (COUPLED_LABELS_D[:, 5] == 0))[0][0]\n",
    "print(state_index_a,state_index_b)"
   ]
  },
  {
   "cell_type": "code",
   "execution_count": 16,
   "id": "c660f5ab-54b9-4842-827b-456225bda7ab",
   "metadata": {},
   "outputs": [
    {
     "ename": "NameError",
     "evalue": "name 'states_pair' is not defined",
     "output_type": "error",
     "traceback": [
      "\u001b[0;31m---------------------------------------------------------------------------\u001b[0m",
      "\u001b[0;31mNameError\u001b[0m                                 Traceback (most recent call last)",
      "Cell \u001b[0;32mIn [16], line 1\u001b[0m\n\u001b[0;32m----> 1\u001b[0m H_INT_a \u001b[38;5;241m=\u001b[39m \u001b[43mstates_pair\u001b[49m\u001b[38;5;241m.\u001b[39mconj()\u001b[38;5;241m.\u001b[39mT \u001b[38;5;241m@\u001b[39m (V_dd \u001b[38;5;241m@\u001b[39m states_pair[:,state_index_a])\n\u001b[1;32m      2\u001b[0m H_INT_b \u001b[38;5;241m=\u001b[39m states_pair\u001b[38;5;241m.\u001b[39mconj()\u001b[38;5;241m.\u001b[39mT \u001b[38;5;241m@\u001b[39m (V_dd \u001b[38;5;241m@\u001b[39m states_pair[:,state_index_b])\n",
      "\u001b[0;31mNameError\u001b[0m: name 'states_pair' is not defined"
     ]
    }
   ],
   "source": [
    "H_INT_a = states_pair.conj().T @ (V_dd @ states_pair[:,state_index_a])\n",
    "H_INT_b = states_pair.conj().T @ (V_dd @ states_pair[:,state_index_b])"
   ]
  },
  {
   "cell_type": "code",
   "execution_count": 20,
   "id": "c81f138e-6984-458e-bb8d-348b7077cc93",
   "metadata": {},
   "outputs": [],
   "source": [
    "# Find states\n",
    "states_pair_a = np.kron(STATES[0,:,label_to_state_no(1,10,2)],STATES[0,:,label_to_state_no(0,10,0)])\n",
    "states_pair_b = np.kron(STATES[0,:,label_to_state_no(0,10,0)],STATES[0,:,label_to_state_no(1,10,2)])"
   ]
  },
  {
   "cell_type": "code",
   "execution_count": 21,
   "id": "e049e62b-fa98-4949-801e-a2fa6a3a696d",
   "metadata": {},
   "outputs": [
    {
     "data": {
      "text/plain": [
       "(16384,)"
      ]
     },
     "execution_count": 21,
     "metadata": {},
     "output_type": "execute_result"
    }
   ],
   "source": [
    "states_pair_a.shape"
   ]
  },
  {
   "cell_type": "code",
   "execution_count": 22,
   "id": "07afb55e-fad4-497c-aaf4-641c87d66b64",
   "metadata": {},
   "outputs": [
    {
     "data": {
      "text/plain": [
       "(366.42041238729826+0j)"
      ]
     },
     "execution_count": 22,
     "metadata": {},
     "output_type": "execute_result"
    }
   ],
   "source": [
    "(states_pair_a.conj().T @ V_dd @ states_pair_b)/H_BAR"
   ]
  },
  {
   "cell_type": "code",
   "execution_count": 26,
   "id": "778e11de-85c3-4f41-99fb-1039205f2f28",
   "metadata": {},
   "outputs": [
    {
     "data": {
      "text/plain": [
       "0j"
      ]
     },
     "execution_count": 26,
     "metadata": {},
     "output_type": "execute_result"
    }
   ],
   "source": [
    "V_dd[state_index_b,state_index_a]"
   ]
  },
  {
   "cell_type": "code",
   "execution_count": 168,
   "id": "be05b915-c0f1-4c1a-b4b1-9ce3e0ba30e4",
   "metadata": {},
   "outputs": [
    {
     "data": {
      "text/plain": [
       "(-185.47082895921153+0j)"
      ]
     },
     "execution_count": 168,
     "metadata": {},
     "output_type": "execute_result"
    }
   ],
   "source": [
    "np.min(H_INT_a/H_BAR)"
   ]
  },
  {
   "cell_type": "code",
   "execution_count": 169,
   "id": "a646cfa3-e621-4a6d-a8e1-0aa204a51d29",
   "metadata": {},
   "outputs": [
    {
     "data": {
      "text/plain": [
       "(81.83662401895579+0j)"
      ]
     },
     "execution_count": 169,
     "metadata": {},
     "output_type": "execute_result"
    }
   ],
   "source": [
    "np.max(H_INT_a/H_BAR)"
   ]
  },
  {
   "cell_type": "code",
   "execution_count": 23,
   "id": "2782aec4",
   "metadata": {},
   "outputs": [
    {
     "ename": "NameError",
     "evalue": "name 'H_INT_b' is not defined",
     "output_type": "error",
     "traceback": [
      "\u001b[0;31m---------------------------------------------------------------------------\u001b[0m",
      "\u001b[0;31mNameError\u001b[0m                                 Traceback (most recent call last)",
      "Cell \u001b[0;32mIn [23], line 20\u001b[0m\n\u001b[1;32m     17\u001b[0m detuning_energy_b \u001b[38;5;241m=\u001b[39m COUPLED_LABEL_ENERGY[state_index_a] \u001b[38;5;241m-\u001b[39m COUPLED_LABEL_ENERGY[j]\n\u001b[1;32m     18\u001b[0m \u001b[38;5;66;03m# detuning_energy_b = np.abs(COUPLED_LABEL_ENERGY[state_index_b] - COUPLED_LABEL_ENERGY[j])\u001b[39;00m\n\u001b[0;32m---> 20\u001b[0m state_b_coupling \u001b[38;5;241m=\u001b[39m \u001b[43mH_INT_b\u001b[49m[j]\n\u001b[1;32m     21\u001b[0m \u001b[38;5;66;03m# state_b_coupling = H_INT_b[j]\u001b[39;00m\n\u001b[1;32m     23\u001b[0m supposed_coupling_b \u001b[38;5;241m=\u001b[39m np\u001b[38;5;241m.\u001b[39mabs(state_b_coupling\u001b[38;5;241m/\u001b[39mdetuning_energy_b)\n",
      "\u001b[0;31mNameError\u001b[0m: name 'H_INT_b' is not defined"
     ]
    }
   ],
   "source": [
    "# desired_transition_energy = np.abs(COUPLED_LABEL_ENERGY[state_index_a] - COUPLED_LABEL_ENERGY[state_index_b])\n",
    "\n",
    "\n",
    "# j ------\n",
    "# b ------\n",
    "    # |\n",
    "    # |\n",
    "    # |\n",
    "    # |\n",
    "# a ------\n",
    "\n",
    "detunings_up = np.zeros((N_PAIR_STATES),dtype=np.double)\n",
    "fidelities_up = np.zeros((N_PAIR_STATES),dtype=np.double)\n",
    "\n",
    "for j in range(N_PAIR_STATES): # for all off resonant states\n",
    "    # off_resonant_energy = COUPLED_LABEL_ENERGY[j] # get energy\n",
    "    detuning_energy_b = COUPLED_LABEL_ENERGY[state_index_a] - COUPLED_LABEL_ENERGY[j]\n",
    "    # detuning_energy_b = np.abs(COUPLED_LABEL_ENERGY[state_index_b] - COUPLED_LABEL_ENERGY[j])\n",
    "    \n",
    "    state_b_coupling = H_INT_b[j]\n",
    "    # state_b_coupling = H_INT_b[j]\n",
    "    \n",
    "    supposed_coupling_b = np.abs(state_b_coupling/detuning_energy_b)\n",
    "    # supposed_coupling_b = np.abs(state_b_coupling/detuning_energy_a)**2\n",
    "    \n",
    "    detunings_up[j] = detuning_energy_b\n",
    "    fidelities_up[j] = np.log10(supposed_coupling_b)\n",
    "    \n",
    "    \n",
    "detunings_down = np.zeros((N_PAIR_STATES),dtype=np.double)\n",
    "fidelities_down = np.zeros((N_PAIR_STATES),dtype=np.double)\n",
    "\n",
    "for j in range(N_PAIR_STATES): # for all off resonant states\n",
    "    # off_resonant_energy = COUPLED_LABEL_ENERGY[j] # get energy\n",
    "    detuning_energy_a = COUPLED_LABEL_ENERGY[state_index_b] - COUPLED_LABEL_ENERGY[j]\n",
    "    # detuning_energy_b = np.abs(COUPLED_LABEL_ENERGY[state_index_b] - COUPLED_LABEL_ENERGY[j])\n",
    "    \n",
    "    state_a_coupling = H_INT_a[j]\n",
    "    # state_b_coupling = H_INT_b[j]\n",
    "    \n",
    "    supposed_coupling_a = np.abs(state_a_coupling/detuning_energy_a)\n",
    "    # supposed_coupling_b = np.abs(state_b_coupling/detuning_energy_a)**2\n",
    "    \n",
    "    detunings_down[j] = detuning_energy_a\n",
    "    fidelities_down[j] = np.log10(supposed_coupling_a)\n",
    "    \n"
   ]
  },
  {
   "cell_type": "code",
   "execution_count": 115,
   "id": "ccb15513",
   "metadata": {},
   "outputs": [
    {
     "data": {
      "text/plain": [
       "(-2.0, 2.0)"
      ]
     },
     "execution_count": 115,
     "metadata": {},
     "output_type": "execute_result"
    },
    {
     "data": {
      "application/vnd.jupyter.widget-view+json": {
       "model_id": "bb39f0266027495082653b6ff8ad31cc",
       "version_major": 2,
       "version_minor": 0
      },
      "image/png": "[encoded data removed]",
      "text/html": [
       "\n",
       "            <div style=\"display: inline-block;\">\n",
       "                <div class=\"jupyter-widgets widget-label\" style=\"text-align: center;\">\n",
       "                    Figure\n",
       "                </div>\n",
       "                <img src='data:image/png;base64,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' width=800.0/>\n",
       "            </div>\n",
       "        "
      ],
      "text/plain": [
       "Canvas(toolbar=Toolbar(toolitems=[('Home', 'Reset original view', 'home', 'home'), ('Back', 'Back to previous …"
      ]
     },
     "metadata": {},
     "output_type": "display_data"
    }
   ],
   "source": [
    "fig,ax = plt.subplots()\n",
    "ax.scatter(-detunings_up/(1e6*H_BAR),fidelities_up)\n",
    "ax.scatter(-detunings_up/(1e6*H_BAR),fidelities_up)\n",
    "ax.set_xlim(-2,2)\n",
    "# ax.set_ylim(-8,-2)"
   ]
  },
  {
   "cell_type": "code",
   "execution_count": null,
   "id": "de5ebccf-8d7f-494f-82c4-f17552da4425",
   "metadata": {},
   "outputs": [],
   "source": []
  },
  {
   "cell_type": "code",
   "execution_count": null,
   "id": "c0bd5350-7718-43e1-a666-a379c2e04c07",
   "metadata": {},
   "outputs": [],
   "source": []
  }
 ],
 "metadata": {
  "jupytext": {
   "cell_markers": "\"\"\"",
   "formats": "notebooks//ipynb,scripts//py:percent"
  },
  "kernelspec": {
   "display_name": "Python 3 (ipykernel)",
   "language": "python",
   "name": "python3"
  },
  "language_info": {
   "codemirror_mode": {
    "name": "ipython",
    "version": 3
   },
   "file_extension": ".py",
   "mimetype": "text/x-python",
   "name": "python",
   "nbconvert_exporter": "python",
   "pygments_lexer": "ipython3",
   "version": "3.10.8"
  },
  "vscode": {
   "interpreter": {
    "hash": "bbd9c84f699e830af4c0af31dc94000b2c777a89cb5d82dcf820c2c6502b2da2"
   }
  }
 },
 "nbformat": 4,
 "nbformat_minor": 5
}
